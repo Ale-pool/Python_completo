{
  "nbformat": 4,
  "nbformat_minor": 0,
  "metadata": {
    "colab": {
      "provenance": []
    },
    "kernelspec": {
      "name": "python3",
      "display_name": "Python 3"
    },
    "language_info": {
      "name": "python"
    }
  },
  "cells": [
    {
      "cell_type": "code",
      "execution_count": null,
      "metadata": {
        "colab": {
          "base_uri": "https://localhost:8080/"
        },
        "id": "1kM3OUm5to7h",
        "outputId": "cf70a0cc-af2b-4daf-e583-cee68de0de74"
      },
      "outputs": [
        {
          "output_type": "execute_result",
          "data": {
            "text/plain": [
              "3"
            ]
          },
          "metadata": {},
          "execution_count": 5
        }
      ],
      "source": [
        "# manejemos una lista\n",
        "numeros = [1,5,6,4,6,2,1]\n",
        "indice = 4\n",
        "\n",
        "numeros.index(indice)\n",
        "\n"
      ]
    },
    {
      "cell_type": "markdown",
      "source": [
        "#** COLECCIONES **\n",
        "\n",
        "## **En esta unidad vamos a estar estudiando las diferentes colecciónes que podemos trabajar en python.**\n",
        "\n",
        "*   Tuplas --> https://ellibrodepython.com/tuplas-python\n",
        "*   Conjuntos --> https://ellibrodepython.com/sets-python\n",
        "*   Diccionarios --> https://ellibrodepython.com/diccionarios-en-python#diccionario\n",
        "\n",
        "\n",
        "\n",
        "\n",
        "\n"
      ],
      "metadata": {
        "id": "leNr3MqENijl"
      }
    },
    {
      "cell_type": "code",
      "source": [
        "\"\"\"\n",
        "Bueno, una tupla es una colección ordenada, inmutable de elementos:\n",
        "- Ordenada : los elementos tienen un indice fijo(como una lista)\n",
        "- Inmutable: Una vez creada, no puedes modificar, agregar ni eliminar los elementos de la tupla\n",
        "- permite duplicados: Puedes tener elementos repetidos\n",
        "- Para inicalizar una tupla lo hacemos con : ()\n",
        "\n",
        "\"\"\"\n",
        "\n",
        "# crear tuplas:\n",
        "tupla_1 = (1,2,3,5)\n",
        "tupla_2 = (1, float, 2.133, [1,2])\n",
        "tupla_3 = (1,2,2,3,2,1,2)\n",
        "\n",
        "# tambien se puede crear una tupla sin parentesis\n",
        "\n",
        "tupla_4 = 1, 4, 3 , 2\n",
        "\n",
        "# una tupla de un solo elemento\n",
        "\n",
        "tu = (1,)\n",
        "no_tupla  = (5) # entero\n",
        "\n",
        "# acceder a los elementos (indexación y slicing)\n",
        "colores = (\"rojo\", \"amarillo\", \"verde\", \"azul\", \"rosado\")\n",
        "print(colores)\n",
        "print(colores[3:])\n",
        "print(colores[:3])\n"
      ],
      "metadata": {
        "colab": {
          "base_uri": "https://localhost:8080/"
        },
        "id": "cySV6rV2Oobr",
        "outputId": "7226df0e-30b2-490c-aa08-182702de7f03"
      },
      "execution_count": null,
      "outputs": [
        {
          "output_type": "stream",
          "name": "stdout",
          "text": [
            "('rojo', 'amarillo', 'verde', 'azul', 'rosado')\n",
            "('azul', 'rosado')\n",
            "('rojo', 'amarillo', 'verde')\n"
          ]
        }
      ]
    },
    {
      "cell_type": "code",
      "source": [
        "# Vamos a iterar sobre una tupla\n",
        "\n",
        "animales = (\"gato\", \"perro\", \"loro\")\n",
        "# for animal in animales:\n",
        "#   print(animal)\n",
        "\n",
        "\n",
        "for indice, animal in enumerate(animales):\n",
        "  print(f\"{indice} : {animal}\")"
      ],
      "metadata": {
        "colab": {
          "base_uri": "https://localhost:8080/"
        },
        "id": "eGRxU-_jRnMj",
        "outputId": "41ef5a74-a309-47ba-f4b5-5a8b6917cf1b"
      },
      "execution_count": null,
      "outputs": [
        {
          "output_type": "stream",
          "name": "stdout",
          "text": [
            "0 : gato\n",
            "1 : perro\n",
            "2 : loro\n"
          ]
        }
      ]
    },
    {
      "cell_type": "code",
      "source": [
        "# Desempaquetar tuplas\n",
        "# puedes asignar los valores de una tupla directamente a variables individuales\n",
        "\n",
        "persona =  (\"Alex\", 25, \"colombia\")\n",
        "nombre, edad, pais = persona\n",
        "\n",
        "print(nombre)\n",
        "print(edad)\n",
        "print(pais)\n",
        "\n",
        "# Incluso puedes usar el * (asterisco) para capturar varios valores:\n",
        "\n",
        "valores = (10, 20, 30, 40, 12, 50, 60, 80)\n",
        "a, *b, c = valores\n",
        "\n",
        "print(a)\n",
        "print(b)\n",
        "print(c)\n"
      ],
      "metadata": {
        "colab": {
          "base_uri": "https://localhost:8080/"
        },
        "id": "5NYV4dr2SWuE",
        "outputId": "779c59d8-acf7-430f-c28b-391ebaaf6c04"
      },
      "execution_count": null,
      "outputs": [
        {
          "output_type": "stream",
          "name": "stdout",
          "text": [
            "Alex\n",
            "25\n",
            "colombia\n",
            "10\n",
            "[20, 30, 40, 12, 50, 60]\n",
            "80\n"
          ]
        }
      ]
    },
    {
      "cell_type": "code",
      "source": [
        "# Inmutabilidad\n",
        "colores = (\"rojo\", \"verde\", \"azul\")\n",
        "# colores[1] = \"amarillo\" ❌ ERROR\n",
        "\n",
        "\n",
        "lista_colores = list(colores)\n",
        "lista_colores[2] = \"Blanco\"\n",
        "colores = tuple(lista_colores)\n",
        "print(colores)\n",
        "# ('rojo', 'amarillo', 'azul')\n"
      ],
      "metadata": {
        "colab": {
          "base_uri": "https://localhost:8080/"
        },
        "id": "qtbx_KRbUHQY",
        "outputId": "0a539cef-1726-4068-f34c-d8c6fc63e7e3"
      },
      "execution_count": null,
      "outputs": [
        {
          "output_type": "stream",
          "name": "stdout",
          "text": [
            "('rojo', 'verde', 'Blanco')\n"
          ]
        }
      ]
    },
    {
      "cell_type": "code",
      "source": [
        "# si se quiere modificar la tupla la debemos convertir en lista\n",
        "\n",
        "nombres = (\"Ana\", \"Luis\", \"Carlos\", \"Marta\", \"Sofía\", \"Jorge\", \"Lucía\", \"Pedro\", \"Elena\", \"Diego\")\n",
        "type(nombres)\n",
        "nombres = list(nombres)\n",
        "nombres[2] = \"Alex\"\n",
        "nombres"
      ],
      "metadata": {
        "colab": {
          "base_uri": "https://localhost:8080/"
        },
        "id": "70U0SlKVUbc4",
        "outputId": "eecf1742-65f1-4ea9-d0bd-6124bb20a292"
      },
      "execution_count": null,
      "outputs": [
        {
          "output_type": "execute_result",
          "data": {
            "text/plain": [
              "['Ana',\n",
              " 'Luis',\n",
              " 'Alex',\n",
              " 'Marta',\n",
              " 'Sofía',\n",
              " 'Jorge',\n",
              " 'Lucía',\n",
              " 'Pedro',\n",
              " 'Elena',\n",
              " 'Diego']"
            ]
          },
          "metadata": {},
          "execution_count": 52
        }
      ]
    },
    {
      "cell_type": "code",
      "source": [
        "# Métodos disponibles\n",
        "# Las tuplas solo tienen dos métodos principales (por ser inmutables):\n",
        "\n",
        "numeros = (1, 2, 2, 1, 4, 2, 3)\n",
        "print(numeros.count(2))   # 3 → cuenta cuántas veces aparece el 2\n",
        "print(numeros.index(3))   # 3 → devuelve el índice de la primera aparición de 3\n",
        "\n",
        "\n",
        "\n"
      ],
      "metadata": {
        "colab": {
          "base_uri": "https://localhost:8080/"
        },
        "id": "alDKjCPKV3cM",
        "outputId": "b4ccebf4-088f-4fc4-aace-3ae295b27c90"
      },
      "execution_count": null,
      "outputs": [
        {
          "output_type": "stream",
          "name": "stdout",
          "text": [
            "3\n",
            "6\n"
          ]
        }
      ]
    },
    {
      "cell_type": "code",
      "source": [
        "# tambien podemos cancatenar\n",
        "\n",
        "tupla_5 = (1,2,3,4,5)\n",
        "tupla_6= (6,7,8,9,)\n",
        "tupla_7 = (10, )\n",
        "tupla_general = tupla_5 + tupla_6 + tupla_7\n",
        "tupla_general\n",
        "\n",
        "#====== REPETIR ==========#\n",
        "\n",
        "print(tupla_5 * 3)\n"
      ],
      "metadata": {
        "colab": {
          "base_uri": "https://localhost:8080/"
        },
        "id": "oSOWR0ydWf3P",
        "outputId": "96d6b40d-ec55-4d95-e81e-7f52c1118742"
      },
      "execution_count": null,
      "outputs": [
        {
          "output_type": "stream",
          "name": "stdout",
          "text": [
            "(1, 2, 3, 4, 5, 1, 2, 3, 4, 5, 1, 2, 3, 4, 5)\n"
          ]
        }
      ]
    },
    {
      "cell_type": "code",
      "source": [
        "# comprabar existencia\n",
        "\n",
        "nombres = tuple(nombres)\n",
        "\n",
        "if \"Juan\"  not in nombres:\n",
        "  print(\"es correcto\")\n",
        "else:\n",
        "  print(\"Es falso\")"
      ],
      "metadata": {
        "colab": {
          "base_uri": "https://localhost:8080/"
        },
        "id": "my0Tx5KxXKp4",
        "outputId": "4cb8a599-f45e-49a7-c3f9-1a69b35cd080"
      },
      "execution_count": null,
      "outputs": [
        {
          "output_type": "stream",
          "name": "stdout",
          "text": [
            "es correcto\n"
          ]
        }
      ]
    },
    {
      "cell_type": "code",
      "source": [
        "# tuplas anidadas\n",
        "\n",
        "cordenandas = ((1,2), (2,7), (5,7), (8,9))\n",
        "\n",
        "for x, y in cordenandas:\n",
        "  print(f\" x = {x}, y: {y}\")"
      ],
      "metadata": {
        "colab": {
          "base_uri": "https://localhost:8080/"
        },
        "id": "Pq-TYSyDXvj8",
        "outputId": "dae15161-9468-4f5e-aa96-2fbf2162ea1b"
      },
      "execution_count": null,
      "outputs": [
        {
          "output_type": "stream",
          "name": "stdout",
          "text": [
            " x = 1, y: 2\n",
            " x = 2, y: 7\n",
            " x = 5, y: 7\n",
            " x = 8, y: 9\n"
          ]
        }
      ]
    },
    {
      "cell_type": "code",
      "source": [
        "# Tuplas como claves en diccionario\n",
        "# las tuplas pueden usarse como claves, porque son inmutable(las listas no)\n",
        "\n",
        "puntos = {\n",
        "    (0, 0): \"origen\",\n",
        "    (1, 2): \"punto A\",\n",
        "    (3, 4): \"punto B\"\n",
        "}\n",
        "\n",
        "print(puntos[(1, 2)])  # punto A\n"
      ],
      "metadata": {
        "colab": {
          "base_uri": "https://localhost:8080/"
        },
        "id": "xJyVGgDNYR8M",
        "outputId": "2b14415a-37be-4b1d-d80d-1b3b942b85c3"
      },
      "execution_count": null,
      "outputs": [
        {
          "output_type": "stream",
          "name": "stdout",
          "text": [
            "punto A\n"
          ]
        }
      ]
    },
    {
      "cell_type": "code",
      "source": [
        "#Comparar tuplas\n",
        "\n",
        "a = (1, 2, 3)\n",
        "b = (1, 3, 2)\n",
        "\n",
        "print( a == b)\n",
        "print( a < b )\n",
        "print(a != b)\n",
        "print(a >= b)"
      ],
      "metadata": {
        "colab": {
          "base_uri": "https://localhost:8080/"
        },
        "id": "mCkO2e2Evfg2",
        "outputId": "f5e54268-de44-41e8-d809-bfbaf2957d3e"
      },
      "execution_count": null,
      "outputs": [
        {
          "output_type": "stream",
          "name": "stdout",
          "text": [
            "False\n",
            "True\n",
            "True\n",
            "False\n"
          ]
        }
      ]
    },
    {
      "cell_type": "code",
      "source": [
        "# Tuplas y funciones (devolución múltiples\n",
        "# Las funciones pueden devolver varias cosas a la vez usando tuplas implícitas.\n",
        "\n",
        "def dividir_y_residuo(x, y):\n",
        "  return x // y, x % y # devuelve una tupla\n",
        "\n",
        "cociente, residuo = dividir_y_residuo(10, 3)\n",
        "print(cociente, residuo)\n",
        "\n",
        "\n",
        "# conversion de tipos\n",
        "\n",
        "lista = [1, 2, 3]\n",
        "tupla = tuple(lista)\n",
        "print(tupla)  # (1, 2, 3)\n",
        "\n",
        "cadena = \"Hola\"\n",
        "print(tuple(cadena))  # ('H', 'o', 'l', 'a')\n",
        "\n"
      ],
      "metadata": {
        "colab": {
          "base_uri": "https://localhost:8080/"
        },
        "id": "rJaUv4z1wMuP",
        "outputId": "0b96daf7-4ef5-49a3-c597-920ad9a78bfc"
      },
      "execution_count": null,
      "outputs": [
        {
          "output_type": "stream",
          "name": "stdout",
          "text": [
            "3 1\n",
            "(1, 2, 3)\n",
            "('H', 'o', 'l', 'a')\n"
          ]
        }
      ]
    },
    {
      "cell_type": "code",
      "source": [
        "# ejemplo completo :\n",
        "\n",
        "personas = (\n",
        "    (\"Ana\", 25, \"Medellín\"),\n",
        "    (\"Luis\", 30, \"Bogotá\"),\n",
        "    (\"Carlos\", 28, \"Cali\")\n",
        ")\n",
        "\n",
        "for people, age, city in personas:\n",
        "  print(f\"{people} tiene una de edad de {age} y vive en {city} \")"
      ],
      "metadata": {
        "colab": {
          "base_uri": "https://localhost:8080/"
        },
        "id": "84l8znMCw9uB",
        "outputId": "6df1032a-3a94-4e23-815e-143428ff6aaa"
      },
      "execution_count": null,
      "outputs": [
        {
          "output_type": "stream",
          "name": "stdout",
          "text": [
            "Ana tiene una de edad de 25 y vive en Medellín \n",
            "Luis tiene una de edad de 30 y vive en Bogotá \n",
            "Carlos tiene una de edad de 28 y vive en Cali \n"
          ]
        }
      ]
    },
    {
      "cell_type": "markdown",
      "source": [
        "# VIDEO - CURSO"
      ],
      "metadata": {
        "id": "d7gU63KTw9KR"
      }
    },
    {
      "cell_type": "code",
      "source": [
        "tu = (\"juan\", \"Alex\",\"maicol\", \"andres\", \"Alex\")\n",
        "tu.count(\"Alex\")"
      ],
      "metadata": {
        "colab": {
          "base_uri": "https://localhost:8080/"
        },
        "id": "0mICpFUTxAZv",
        "outputId": "2af26636-3603-4ecc-97ae-a9d791dc1c90"
      },
      "execution_count": null,
      "outputs": [
        {
          "output_type": "execute_result",
          "data": {
            "text/plain": [
              "2"
            ]
          },
          "metadata": {},
          "execution_count": 10
        }
      ]
    },
    {
      "cell_type": "code",
      "source": [
        "tupla = (1,\"Juan\", True, 2.24, \"Buenas\",1 )\n",
        "\n",
        "#ultimo elemento de la tupla\n",
        "print(tupla[-1])\n",
        "print(len(tupla))\n",
        "print(tupla.index(2.24))\n",
        "print(tupla[:3])\n",
        "print(tupla[4])\n",
        "print(tupla.count(1))\n",
        "\n"
      ],
      "metadata": {
        "colab": {
          "base_uri": "https://localhost:8080/"
        },
        "id": "pbKRSl1hMXSr",
        "outputId": "64fbc484-0aac-4acd-83eb-a99691805e02"
      },
      "execution_count": null,
      "outputs": [
        {
          "output_type": "stream",
          "name": "stdout",
          "text": [
            "1\n",
            "6\n",
            "3\n",
            "(1, 'Juan', True)\n",
            "Buenas\n",
            "3\n"
          ]
        }
      ]
    },
    {
      "cell_type": "markdown",
      "source": [
        "# CONJUNTOS EN **PY**\n",
        "\n",
        "### Un conjunto es una colección desordenada, mutable y sin elementos duplicados.\n",
        "\n",
        "![image.png](data:image/png;base64,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)"
      ],
      "metadata": {
        "id": "QPQPuNrPOKeK"
      }
    },
    {
      "cell_type": "code",
      "source": [
        "conjunto_1  = {1,4,4,2, True, (1,2,3), 2, 2}\n",
        "print(conjunto_1)\n",
        "\n",
        "conjunto_2 = {1,2,3,5}\n",
        "colores = {\"rojo\", \"verde\", \"azul\"}\n",
        "vacio = set() # esta es la forma correcta para un conjunto vacio\n",
        "no_vacio = {} # la definicion de un diccionario vacio\n"
      ],
      "metadata": {
        "colab": {
          "base_uri": "https://localhost:8080/"
        },
        "id": "S9SENLzpPa6A",
        "outputId": "c8b80e1d-d689-4c9e-e930-b86293cef2df"
      },
      "execution_count": null,
      "outputs": [
        {
          "output_type": "stream",
          "name": "stdout",
          "text": [
            "{1, 2, (1, 2, 3), 4}\n"
          ]
        }
      ]
    },
    {
      "cell_type": "markdown",
      "source": [
        "📕 Características clave\n",
        "\n",
        "No permiten elementos repetidos.\n",
        "\n",
        "No tienen índices (no se puede hacer mi_set[0]).\n",
        "\n",
        "Se pueden recorrer con for.\n",
        "\n",
        "Son muy eficientes para operaciones de búsqueda y comparación."
      ],
      "metadata": {
        "id": "50mxPpizS1a7"
      }
    },
    {
      "cell_type": "code",
      "source": [
        "# Eliminar duplicados facilmente\n",
        "# Una utilidad muy comun de los duplicados, es eliminar duplicados de una lista:\n",
        "lista = [1, 2, 2, 3, 4, 4, 5]\n",
        "lista\n",
        "lista__no_duplicados = list(set(lista))\n",
        "lista__no_duplicados"
      ],
      "metadata": {
        "colab": {
          "base_uri": "https://localhost:8080/"
        },
        "id": "zLzetaCzS-EB",
        "outputId": "7f776da5-293a-4bad-82b1-eb4eec7e8e80"
      },
      "execution_count": null,
      "outputs": [
        {
          "output_type": "execute_result",
          "data": {
            "text/plain": [
              "[1, 2, 3, 4, 5]"
            ]
          },
          "metadata": {},
          "execution_count": 2
        }
      ]
    },
    {
      "cell_type": "code",
      "source": [
        "# Vamos a iterar sobre un conjunto\n",
        "frutas = {\"manzana\", \"pera\", \"uva\"}\n",
        "# 👉 El orden puede cambiar cada vez que ejecutes el programa (porque los sets son desordenados).\n",
        "for fruta in frutas:\n",
        "  print(fruta)\n",
        "\n",
        "for indice, fruta in enumerate(frutas):\n",
        "  print(f\"{indice} : {fruta}\")"
      ],
      "metadata": {
        "colab": {
          "base_uri": "https://localhost:8080/"
        },
        "id": "B8lB6ROqVtMf",
        "outputId": "05dcdb67-8a1a-4a19-80e7-2e884a390f5b"
      },
      "execution_count": null,
      "outputs": [
        {
          "output_type": "stream",
          "name": "stdout",
          "text": [
            "manzana\n",
            "pera\n",
            "uva\n",
            "0 : manzana\n",
            "1 : pera\n",
            "2 : uva\n"
          ]
        }
      ]
    },
    {
      "cell_type": "markdown",
      "source": [
        "**# METODOS DE LOS SET**"
      ],
      "metadata": {
        "id": "l2cdqS2EYaYU"
      }
    },
    {
      "cell_type": "code",
      "source": [
        "# agregar y eliminar elementos:\n",
        "\n",
        "numeros = {1, 2, 4}\n",
        "numeros.add(0)\n",
        "print(numeros)\n",
        "\n",
        "# si queremos agregar varios elementos al set\n",
        "\n",
        "numeros.update([5,6,7]) # para ello llamamos al metodo y seleccionamos los valores que queremos anexar en corchetes []\n",
        "print(numeros)\n",
        "# Si queremos eliminar valores de los conjuntos (set) - elimina un elemento lanza error si no existe\n",
        "numeros.remove(7)\n",
        "print(numeros)\n",
        "\n",
        "# discar() --> elimina un elemento(No lanza un error si no existe)\n",
        "\n",
        "numeros.discard(10) # no hace nada si no existe\n",
        "\n",
        "# pop() -> elimina un elemento aleatorio\n",
        "numeros.pop()\n",
        "print(numeros)\n",
        "\n",
        "# clear() -> vacia el conjunto\n",
        "n = {1,2,4}\n",
        "n.clear()\n",
        "print(n)\n",
        "\n"
      ],
      "metadata": {
        "colab": {
          "base_uri": "https://localhost:8080/"
        },
        "id": "MEpk4FMtWT67",
        "outputId": "91f6e555-e762-4601-ab06-1c1df08d0f77"
      },
      "execution_count": null,
      "outputs": [
        {
          "output_type": "stream",
          "name": "stdout",
          "text": [
            "{0, 1, 2, 4}\n",
            "{0, 1, 2, 4, 5, 6, 7}\n",
            "{0, 1, 2, 4, 5, 6}\n",
            "{1, 2, 4, 5, 6}\n",
            "set()\n"
          ]
        }
      ]
    },
    {
      "cell_type": "markdown",
      "source": [
        "# OPERACIONES DE TEORIA DE CONJUNTOS\n",
        "\n",
        "Python implementa todas las operaciones matemáticas de conjuntos.\n",
        "Son extremadamente útiles para trabajar con datos únicos, comparaciones y filtros."
      ],
      "metadata": {
        "id": "DoRts3o2Z33t"
      }
    },
    {
      "cell_type": "code",
      "source": [
        "from os import XATTR_SIZE_MAX\n",
        "a = {1, 2, 3, 4, 5}\n",
        "b = {5, 6, 7,  8, 9 , 10}\n",
        "c = {1, 4, 2, 5, 8, 10}\n",
        "\n",
        "# vamos a empezar con la union, la unon de dos conjuntos basicamente crea un conjunto con todos los elementos que tiene los dos conjuntos\n",
        "# hay dos fomas de hacer la unio |\n",
        "\n",
        "print(f\"Union con | : {a | b}\") # union con \" | \"\n",
        "print(f\"union con 'union'{a.union(b)}\")\n",
        "\n",
        "# intersección --> en la insercion de conjuntos, se crea un nuevo conjunto con los dos elementos de cada conjunto\n",
        "print(f\"Intercesion '&' : {a & b}\")\n",
        "print(f\"intercesion con 'intersection'  : {a.intersection(c)}\")\n",
        "\n",
        "\n",
        "# Diferencia (-) -> elementos que estan en A pero no en b\n",
        "\n",
        "print(f\"Diferencia : {a - b}\")\n",
        "print(f\"Diferencia con 'difference' : {a.difference(c)}\")\n",
        "\n",
        "# Diferencia simetrica ( ^ o symmetric_difference ) -> elementos que estan en uno u otro pero no en ambos\n",
        "print(f\"Diferencia simetrica: {a ^ c}\")\n",
        "print(f\"Diferencia simetrica 'symmetric_difference' : {a.symmetric_difference(c)}\")\n",
        "\n",
        "# comprobaciones de subconjunto / superconjunto\n",
        "\n",
        "\n",
        "e = {1, 2, 3}\n",
        "f = {1, 2, 3, 4, 5}\n",
        "\n",
        "\n"
      ],
      "metadata": {
        "colab": {
          "base_uri": "https://localhost:8080/"
        },
        "id": "nAyEhDNAZ26a",
        "outputId": "10f1180b-7ea3-430f-9988-7f7282a9a4de"
      },
      "execution_count": null,
      "outputs": [
        {
          "output_type": "stream",
          "name": "stdout",
          "text": [
            "Union con | : {1, 2, 3, 4, 5, 6, 7, 8, 9, 10}\n",
            "union con 'union'{1, 2, 3, 4, 5, 6, 7, 8, 9, 10}\n",
            "Intercesion '&' : {5}\n",
            "intercesion con 'intersection'  : {1, 2, 4, 5}\n",
            "Diferencia : {1, 2, 3, 4}\n",
            "Diferencia con 'difference' : {3}\n",
            "Diferencia simetrica: {3, 8, 10}\n",
            "Diferencia simetrica 'symmetric_difference' : {3, 8, 10}\n"
          ]
        }
      ]
    },
    {
      "cell_type": "code",
      "source": [
        "frutas = {\"pera\", \"mango\", \"uva\"}\n",
        "copia = frutas.copy()\n",
        "print(copia)\n"
      ],
      "metadata": {
        "id": "r1R1u2E36j1v",
        "colab": {
          "base_uri": "https://localhost:8080/"
        },
        "outputId": "e2d94f50-684b-4d39-a386-143e9f43a835"
      },
      "execution_count": null,
      "outputs": [
        {
          "output_type": "stream",
          "name": "stdout",
          "text": [
            "{'pera', 'mango', 'uva'}\n"
          ]
        }
      ]
    },
    {
      "cell_type": "markdown",
      "source": [
        "![image.png](data:image/png;base64,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)"
      ],
      "metadata": {
        "id": "cA1xXj7u-o5y"
      }
    },
    {
      "cell_type": "code",
      "source": [
        "# los conjustos son mutables, pero lo podemos hacer mutables para poder utilizarlos como claves en diccionarios y demas\n",
        "# frozenset(conjunto inmutable)\n",
        "\n",
        "a = frozenset([1,2,4,5])\n",
        "print(a)\n",
        "# a.add(6) # esto daria error"
      ],
      "metadata": {
        "id": "2ZdwaRa5-piZ",
        "colab": {
          "base_uri": "https://localhost:8080/"
        },
        "outputId": "60f04c1b-9e99-4f36-e01c-44bae4d693c4"
      },
      "execution_count": null,
      "outputs": [
        {
          "output_type": "stream",
          "name": "stdout",
          "text": [
            "frozenset({1, 2, 4, 5})\n"
          ]
        }
      ]
    },
    {
      "cell_type": "markdown",
      "source": [
        "# **NOTA IMPORTANTE:**\n",
        "\n",
        " **Cuando usar Conjuntos:**\n",
        "\n",
        " - se necesite eliminar duplicados de una lista\n",
        " - se quiera verificar pertenencia rapidamente(in es muy rapidos en sets)\n",
        " - tengas que hacer operaciones de comparacion entre grupo de datos\n",
        " - no te importe el orden\n",
        " - se requiera eficiencia en busquedas(mas rapido que listas o tuplas)\n"
      ],
      "metadata": {
        "id": "xy8J5odiD7u5"
      }
    },
    {
      "cell_type": "code",
      "source": [
        "# CONJUNTOS VIDEO CURSO\n",
        "grupo = {\"Miguel\", \"Blanca\", \"Mario\", \"Andrés\"}\n",
        "\n",
        "#\n",
        "for usurario in [\"Ana\", \"Ramon\", \"Marta\", \"Eric\", \"David\"]:\n",
        "  grupo.add(usurario)\n",
        "\n",
        "grupo\n",
        "\n",
        "for usuario in [\"Mario\",\"Ramon\", \"Miguel\"]:\n",
        "  grupo.discard(usuario)\n",
        "\n",
        "grupo\n",
        "\n"
      ],
      "metadata": {
        "colab": {
          "base_uri": "https://localhost:8080/"
        },
        "id": "0qzCRUVbElAW",
        "outputId": "fd9414e9-dd12-4c5b-e93a-173a53eb2f58"
      },
      "execution_count": null,
      "outputs": [
        {
          "output_type": "execute_result",
          "data": {
            "text/plain": [
              "{'Ana', 'Andrés', 'Blanca', 'David', 'Eric', 'Marta'}"
            ]
          },
          "metadata": {},
          "execution_count": 15
        }
      ]
    },
    {
      "cell_type": "markdown",
      "source": [
        "# DICCIONARIOS EN PY\n"
      ],
      "metadata": {
        "id": "xJ3HQ42vJ5hq"
      }
    },
    {
      "cell_type": "code",
      "source": [
        "\"\"\"\n",
        "- Un diccionario es una colección de elementos de clave y valor, es una colección desordenada, mutable\n",
        "- Clave: debe ser hashable(int, str, tuple inmutable). No se puede usar listas o dicts como claves\n",
        "- valor: puede ser cualquier objecto\n",
        "- en los versiones de py mas actuales el dict preserva el orden de inserción\n",
        "\n",
        "\"\"\"\n",
        "diccionario_1 =  {}  # diccionario vacio\n",
        "type(diccionario_1)\n",
        "\n",
        "persona = {\"nombre\" : \"Alex\", \"edad\" : 24, \"Ciudad\" : \"Medellin\"}\n",
        "print(persona)\n",
        "\n",
        "# FORMAS DE CREAR UN DICCIONARIO\n",
        "\n",
        "diccionario_2 = dict(a = 1, b = 2) # solo claves validad como identificadores\n",
        "diccionario_2\n",
        "\n",
        "####\n",
        "diccionario_3 =  dict([(\"x\", 10), (\"y\", 20)])\n",
        "print(diccionario_3)\n"
      ],
      "metadata": {
        "colab": {
          "base_uri": "https://localhost:8080/"
        },
        "id": "EMGHcgWkJ7xX",
        "outputId": "276f5efd-b833-4915-8afe-e584539b2339"
      },
      "execution_count": null,
      "outputs": [
        {
          "output_type": "stream",
          "name": "stdout",
          "text": [
            "{'nombre': 'Alex', 'edad': 24, 'Ciudad': 'Medellin'}\n",
            "{'x': 10, 'y': 20}\n"
          ]
        }
      ]
    },
    {
      "cell_type": "markdown",
      "source": [
        "# Acceder y manejar valores"
      ],
      "metadata": {
        "id": "Ztk4vMvFM8yc"
      }
    },
    {
      "cell_type": "code",
      "source": [
        "\n",
        "d3 = {\"a\": 1, \"b\": 2}\n",
        "\n",
        "v= d3[\"b\"]  # error si no existe (keyerror)\n",
        "print(v)\n",
        "\n",
        "f =d3.get(\"c\") # none si no existe\n",
        "print(f)\n",
        "\n",
        "n  = d3.get(\"m\", 0) # me permite colocar un valor por defecto en caso de no existir\n",
        "print(n)\n",
        "\n",
        "\n",
        "print(\"###################\")\n",
        "\n",
        "d3[\"c\"] = 3 # añadir o actualizar\n",
        "del d3[\"b\"] # me elimina el elemento con la clave ingresada\n",
        "\n",
        "valor = d3.pop(\"a\", None) # elimina y devuelve un none si no exite\n",
        "valor\n",
        "d3\n"
      ],
      "metadata": {
        "colab": {
          "base_uri": "https://localhost:8080/"
        },
        "id": "vNROeejsLxCq",
        "outputId": "8f3eaf73-b58d-4e44-b590-ec3e5e39f4e2"
      },
      "execution_count": null,
      "outputs": [
        {
          "output_type": "stream",
          "name": "stdout",
          "text": [
            "2\n",
            "None\n",
            "0\n",
            "###################\n"
          ]
        },
        {
          "output_type": "execute_result",
          "data": {
            "text/plain": [
              "{'c': 3}"
            ]
          },
          "metadata": {},
          "execution_count": 40
        }
      ]
    },
    {
      "cell_type": "markdown",
      "source": [
        "# Métodos esenciales"
      ],
      "metadata": {
        "id": "U1j36DaeM-HH"
      }
    },
    {
      "cell_type": "code",
      "source": [
        "# d = {}\n",
        "\n",
        "# d.keys() # vista de claves\n",
        "# d.values() # vista de valors\n",
        "# d.items() # vista de pares\n",
        "# d.update() # fusiona otro dict (sovreescribe claves)\n",
        "# d.clear() # elimina todos los pares\n",
        "# d.pop(k[, default]) # quita y devuelve valor\n",
        "# d.popitem() # quita y devuelve último par (LIFO desde Py3.7)\n",
        "# d.setdefault(key, default) # devuelve valor; si no existe crea key: default\n",
        "# dict.fromkeys(iterable, value=None) # crear dict con claves y mismo valor\n"
      ],
      "metadata": {
        "id": "E7OmzA7TNA7X"
      },
      "execution_count": null,
      "outputs": []
    },
    {
      "cell_type": "code",
      "source": [
        "d = {\"a\": 1, \"b\": 2 }\n",
        "\n",
        "for k in d.keys():\n",
        "  print(k)\n",
        "\n",
        "print(\"##===============##\")\n",
        "for valor in d.values():\n",
        "  print(valor)\n",
        "\n",
        "print(\"##===============##\")\n",
        "for clave, valor in d.items():\n",
        "    print(f\"{clave} : {valor}\")\n",
        "\n",
        "print(\"##===============##\")\n",
        "\n",
        "d.update({\"b\": 20, \"c\": 30})\n",
        "print(d)\n",
        "\n",
        "print(\"##===============##\")\n",
        "\n",
        "last = d.popitem() # quita y devuelv eel ultimo añadido\n",
        "print(d)\n",
        "\n",
        "print(\"##===============##\")\n",
        "\n",
        "d.setdefault(\"z\", []) # si no existe se crea\n",
        "print(d)\n",
        "\n",
        "\n"
      ],
      "metadata": {
        "colab": {
          "base_uri": "https://localhost:8080/"
        },
        "id": "R8Xty4lqO1Cs",
        "outputId": "0190909b-a33f-468b-b393-0d32e6521942"
      },
      "execution_count": null,
      "outputs": [
        {
          "output_type": "stream",
          "name": "stdout",
          "text": [
            "a\n",
            "b\n",
            "##===============##\n",
            "1\n",
            "2\n",
            "##===============##\n",
            "a : 1\n",
            "b : 2\n",
            "##===============##\n",
            "{'a': 1, 'b': 20, 'c': 30}\n",
            "##===============##\n",
            "{'a': 1, 'b': 20}\n",
            "##===============##\n",
            "{'a': 1, 'b': 20, 'z': []}\n"
          ]
        }
      ]
    },
    {
      "cell_type": "markdown",
      "source": [
        "# Comprehensions y creación avanzada"
      ],
      "metadata": {
        "id": "B2oIJNIyJ77L"
      }
    },
    {
      "cell_type": "code",
      "source": [
        "# invertir un diccionario si los valores son unicos\n",
        "d = {\"a\": 1, \"b\": 2 }\n",
        "inv = {v: k for k, v in d.items()}\n",
        "print(inv)"
      ],
      "metadata": {
        "colab": {
          "base_uri": "https://localhost:8080/"
        },
        "id": "IIFH1q94IVXI",
        "outputId": "eeb12bd8-e54b-4387-fe59-80aa82834da1"
      },
      "execution_count": 3,
      "outputs": [
        {
          "output_type": "stream",
          "name": "stdout",
          "text": [
            "{1: 'a', 2: 'b'}\n"
          ]
        }
      ]
    },
    {
      "cell_type": "code",
      "source": [
        "# dict por comprensión con condición\n",
        "\n",
        "squares = {n: n*n for n in range(8) if n % 2 == 0}\n",
        "squares"
      ],
      "metadata": {
        "colab": {
          "base_uri": "https://localhost:8080/"
        },
        "id": "37hfe_m1KcWf",
        "outputId": "4b6b95d1-60a2-4bad-db90-cf0228142efd"
      },
      "execution_count": 6,
      "outputs": [
        {
          "output_type": "execute_result",
          "data": {
            "text/plain": [
              "{0: 0, 2: 4, 4: 16, 6: 36}"
            ]
          },
          "metadata": {},
          "execution_count": 6
        }
      ]
    },
    {
      "cell_type": "markdown",
      "source": [
        "# Orden, ordenamientos y conversiones"
      ],
      "metadata": {
        "id": "yqmojkOEK2vj"
      }
    },
    {
      "cell_type": "code",
      "source": [
        "# ordenar por clave\n",
        "for k in sorted(d):\n",
        "    print(k, d[k])\n",
        "\n",
        "# ordenar por valor (descendente)\n",
        "for k, v in sorted(d.items(), key=lambda kv: kv[1], reverse=True):\n",
        "    print(k, v)\n"
      ],
      "metadata": {
        "colab": {
          "base_uri": "https://localhost:8080/"
        },
        "id": "SMKXzBNGK4FG",
        "outputId": "7f1155c1-37aa-45d2-ae24-0616654731e3"
      },
      "execution_count": 7,
      "outputs": [
        {
          "output_type": "stream",
          "name": "stdout",
          "text": [
            "a 1\n",
            "b 2\n",
            "b 2\n",
            "a 1\n"
          ]
        }
      ]
    },
    {
      "cell_type": "code",
      "source": [
        "animales = {\"caballo\" : \"\", \"vaca\" : \"\"}\n",
        "\n",
        "animales[\"perro\"] = \"dog\"\n",
        "animales[\"gato\"]  = \"cat\"\n",
        "animales[\"rana\"] = \"frog\"\n",
        "\n",
        "print(animales)\n",
        "\n",
        "animales[\"caballo\"] = \"horse\"\n",
        "animales[\"vaca\"] = \"cow\"\n",
        "print(animales)\n",
        "\n",
        "del animales['rana']\n",
        "animales\n",
        "\n",
        "del animales['vaca']\n",
        "print(animales)"
      ],
      "metadata": {
        "colab": {
          "base_uri": "https://localhost:8080/"
        },
        "id": "mwT-qODaLLv5",
        "outputId": "6dfdffef-db72-41ba-e896-40bdbf9a642c"
      },
      "execution_count": 16,
      "outputs": [
        {
          "output_type": "stream",
          "name": "stdout",
          "text": [
            "{'caballo': '', 'vaca': '', 'perro': 'dog', 'gato': 'cat', 'rana': 'frog'}\n",
            "{'caballo': 'horse', 'vaca': 'cow', 'perro': 'dog', 'gato': 'cat', 'rana': 'frog'}\n",
            "{'caballo': 'horse', 'perro': 'dog', 'gato': 'cat'}\n"
          ]
        }
      ]
    },
    {
      "cell_type": "markdown",
      "source": [
        "# PILAS Y COLAS EN LISTAS\n"
      ],
      "metadata": {
        "id": "flsFujysOEG5"
      }
    },
    {
      "cell_type": "code",
      "source": [
        "# STACKS\n",
        "# ES UNA COLECCIÓNN DE ELEMENTOS ORDENADOS\n",
        "# LIFO --> LAST IN FIRST OUT --> ULTIMO EN ENTRAR, PRIMERO EN SALIR\n",
        "\n",
        "lista = [1,2,5,6,10]\n",
        "\n",
        "if not lista:\n",
        "  print(\"lista vacia\")\n",
        "else:\n",
        "  print(\"con valores\")\n",
        "\n",
        "print(lista)\n",
        "ultimo = lista.pop()\n",
        "print(ultimo)\n"
      ],
      "metadata": {
        "colab": {
          "base_uri": "https://localhost:8080/"
        },
        "id": "5PJPdDkKODc5",
        "outputId": "8046af98-bace-4dd3-9ad5-97862b7479d1"
      },
      "execution_count": 31,
      "outputs": [
        {
          "output_type": "stream",
          "name": "stdout",
          "text": [
            "con valores\n",
            "[1, 2, 5, 6, 10]\n",
            "10\n"
          ]
        }
      ]
    },
    {
      "cell_type": "code",
      "source": [
        "!import collections import deque"
      ],
      "metadata": {
        "colab": {
          "base_uri": "https://localhost:8080/"
        },
        "id": "qbvcbAa5QrWH",
        "outputId": "46036916-22b4-4901-9f20-b7e78f454171"
      },
      "execution_count": 32,
      "outputs": [
        {
          "output_type": "stream",
          "name": "stdout",
          "text": [
            "/bin/bash: line 1: import: command not found\n"
          ]
        }
      ]
    },
    {
      "cell_type": "code",
      "source": [
        "# queueS\n",
        "# FIFO - FIRST IN, FIRST OUT\n",
        "from collections import  deque\n",
        "cola = deque()\n",
        "\n",
        "cola = deque([\"Juan\", \"Alex\", \"Marta\", \"jose\"])\n",
        "print(cola)\n",
        "\n",
        "p =cola.popleft()\n",
        "print(p)\n"
      ],
      "metadata": {
        "colab": {
          "base_uri": "https://localhost:8080/"
        },
        "id": "wJieEhskPIzW",
        "outputId": "6c4df9cf-3f0e-4553-c4af-0e94dfb93400"
      },
      "execution_count": 35,
      "outputs": [
        {
          "output_type": "stream",
          "name": "stdout",
          "text": [
            "deque(['Juan', 'Alex', 'Marta', 'jose'])\n",
            "Juan\n"
          ]
        }
      ]
    }
  ]
}