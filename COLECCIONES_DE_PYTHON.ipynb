{
  "nbformat": 4,
  "nbformat_minor": 0,
  "metadata": {
    "colab": {
      "provenance": []
    },
    "kernelspec": {
      "name": "python3",
      "display_name": "Python 3"
    },
    "language_info": {
      "name": "python"
    }
  },
  "cells": [
    {
      "cell_type": "code",
      "execution_count": null,
      "metadata": {
        "colab": {
          "base_uri": "https://localhost:8080/"
        },
        "id": "1kM3OUm5to7h",
        "outputId": "cf70a0cc-af2b-4daf-e583-cee68de0de74"
      },
      "outputs": [
        {
          "output_type": "execute_result",
          "data": {
            "text/plain": [
              "3"
            ]
          },
          "metadata": {},
          "execution_count": 5
        }
      ],
      "source": [
        "# manejemos una lista\n",
        "numeros = [1,5,6,4,6,2,1]\n",
        "indice = 4\n",
        "\n",
        "numeros.index(indice)\n",
        "\n"
      ]
    },
    {
      "cell_type": "markdown",
      "source": [
        "#** COLECCIONES **\n",
        "\n",
        "## **En esta unidad vamos a estar estudiando las diferentes colecciónes que podemos trabajar en python.**\n",
        "\n",
        "*   Tuplas --> https://ellibrodepython.com/tuplas-python\n",
        "*   Conjuntos --> https://ellibrodepython.com/sets-python\n",
        "*   Diccionarios --> https://ellibrodepython.com/diccionarios-en-python#diccionario\n",
        "\n",
        "\n",
        "\n",
        "\n",
        "\n"
      ],
      "metadata": {
        "id": "leNr3MqENijl"
      }
    },
    {
      "cell_type": "code",
      "source": [
        "\"\"\"\n",
        "Bueno, una tupla es una colección ordenada, inmutable de elementos:\n",
        "- Ordenada : los elementos tienen un indice fijo(como una lista)\n",
        "- Inmutable: Una vez creada, no puedes modificar, agregar ni eliminar los elementos de la tupla\n",
        "- permite duplicados: Puedes tener elementos repetidos\n",
        "- Para inicalizar una tupla lo hacemos con : ()\n",
        "\n",
        "\"\"\"\n",
        "\n",
        "# crear tuplas:\n",
        "tupla_1 = (1,2,3,5)\n",
        "tupla_2 = (1, float, 2.133, [1,2])\n",
        "tupla_3 = (1,2,2,3,2,1,2)\n",
        "\n",
        "# tambien se puede crear una tupla sin parentesis\n",
        "\n",
        "tupla_4 = 1, 4, 3 , 2\n",
        "\n",
        "# una tupla de un solo elemento\n",
        "\n",
        "tu = (1,)\n",
        "no_tupla  = (5) # entero\n",
        "\n",
        "# acceder a los elementos (indexación y slicing)\n",
        "colores = (\"rojo\", \"amarillo\", \"verde\", \"azul\", \"rosado\")\n",
        "print(colores)\n",
        "print(colores[3:])\n",
        "print(colores[:3])\n"
      ],
      "metadata": {
        "colab": {
          "base_uri": "https://localhost:8080/"
        },
        "id": "cySV6rV2Oobr",
        "outputId": "7226df0e-30b2-490c-aa08-182702de7f03"
      },
      "execution_count": null,
      "outputs": [
        {
          "output_type": "stream",
          "name": "stdout",
          "text": [
            "('rojo', 'amarillo', 'verde', 'azul', 'rosado')\n",
            "('azul', 'rosado')\n",
            "('rojo', 'amarillo', 'verde')\n"
          ]
        }
      ]
    },
    {
      "cell_type": "code",
      "source": [
        "# Vamos a iterar sobre una tupla\n",
        "\n",
        "animales = (\"gato\", \"perro\", \"loro\")\n",
        "# for animal in animales:\n",
        "#   print(animal)\n",
        "\n",
        "\n",
        "for indice, animal in enumerate(animales):\n",
        "  print(f\"{indice} : {animal}\")"
      ],
      "metadata": {
        "colab": {
          "base_uri": "https://localhost:8080/"
        },
        "id": "eGRxU-_jRnMj",
        "outputId": "41ef5a74-a309-47ba-f4b5-5a8b6917cf1b"
      },
      "execution_count": null,
      "outputs": [
        {
          "output_type": "stream",
          "name": "stdout",
          "text": [
            "0 : gato\n",
            "1 : perro\n",
            "2 : loro\n"
          ]
        }
      ]
    },
    {
      "cell_type": "code",
      "source": [
        "# Desempaquetar tuplas\n",
        "# puedes asignar los valores de una tupla directamente a variables individuales\n",
        "\n",
        "persona =  (\"Alex\", 25, \"colombia\")\n",
        "nombre, edad, pais = persona\n",
        "\n",
        "print(nombre)\n",
        "print(edad)\n",
        "print(pais)\n",
        "\n",
        "# Incluso puedes usar el * (asterisco) para capturar varios valores:\n",
        "\n",
        "valores = (10, 20, 30, 40, 12, 50, 60, 80)\n",
        "a, *b, c = valores\n",
        "\n",
        "print(a)\n",
        "print(b)\n",
        "print(c)\n"
      ],
      "metadata": {
        "colab": {
          "base_uri": "https://localhost:8080/"
        },
        "id": "5NYV4dr2SWuE",
        "outputId": "779c59d8-acf7-430f-c28b-391ebaaf6c04"
      },
      "execution_count": null,
      "outputs": [
        {
          "output_type": "stream",
          "name": "stdout",
          "text": [
            "Alex\n",
            "25\n",
            "colombia\n",
            "10\n",
            "[20, 30, 40, 12, 50, 60]\n",
            "80\n"
          ]
        }
      ]
    },
    {
      "cell_type": "code",
      "source": [
        "# Inmutabilidad\n",
        "colores = (\"rojo\", \"verde\", \"azul\")\n",
        "# colores[1] = \"amarillo\" ❌ ERROR\n",
        "\n",
        "\n",
        "lista_colores = list(colores)\n",
        "lista_colores[2] = \"Blanco\"\n",
        "colores = tuple(lista_colores)\n",
        "print(colores)\n",
        "# ('rojo', 'amarillo', 'azul')\n"
      ],
      "metadata": {
        "colab": {
          "base_uri": "https://localhost:8080/"
        },
        "id": "qtbx_KRbUHQY",
        "outputId": "0a539cef-1726-4068-f34c-d8c6fc63e7e3"
      },
      "execution_count": null,
      "outputs": [
        {
          "output_type": "stream",
          "name": "stdout",
          "text": [
            "('rojo', 'verde', 'Blanco')\n"
          ]
        }
      ]
    },
    {
      "cell_type": "code",
      "source": [
        "# si se quiere modificar la tupla la debemos convertir en lista\n",
        "\n",
        "nombres = (\"Ana\", \"Luis\", \"Carlos\", \"Marta\", \"Sofía\", \"Jorge\", \"Lucía\", \"Pedro\", \"Elena\", \"Diego\")\n",
        "type(nombres)\n",
        "nombres = list(nombres)\n",
        "nombres[2] = \"Alex\"\n",
        "nombres"
      ],
      "metadata": {
        "colab": {
          "base_uri": "https://localhost:8080/"
        },
        "id": "70U0SlKVUbc4",
        "outputId": "eecf1742-65f1-4ea9-d0bd-6124bb20a292"
      },
      "execution_count": null,
      "outputs": [
        {
          "output_type": "execute_result",
          "data": {
            "text/plain": [
              "['Ana',\n",
              " 'Luis',\n",
              " 'Alex',\n",
              " 'Marta',\n",
              " 'Sofía',\n",
              " 'Jorge',\n",
              " 'Lucía',\n",
              " 'Pedro',\n",
              " 'Elena',\n",
              " 'Diego']"
            ]
          },
          "metadata": {},
          "execution_count": 52
        }
      ]
    },
    {
      "cell_type": "code",
      "source": [
        "# Métodos disponibles\n",
        "# Las tuplas solo tienen dos métodos principales (por ser inmutables):\n",
        "\n",
        "numeros = (1, 2, 2, 1, 4, 2, 3)\n",
        "print(numeros.count(2))   # 3 → cuenta cuántas veces aparece el 2\n",
        "print(numeros.index(3))   # 3 → devuelve el índice de la primera aparición de 3\n"
      ],
      "metadata": {
        "colab": {
          "base_uri": "https://localhost:8080/"
        },
        "id": "alDKjCPKV3cM",
        "outputId": "6f280fd5-b4bd-4897-e68e-2d113cc34709"
      },
      "execution_count": null,
      "outputs": [
        {
          "output_type": "stream",
          "name": "stdout",
          "text": [
            "3\n",
            "6\n"
          ]
        }
      ]
    },
    {
      "cell_type": "code",
      "source": [
        "# tambien podemos cancatenar\n",
        "\n",
        "tupla_5 = (1,2,3,4,5)\n",
        "tupla_6= (6,7,8,9,)\n",
        "tupla_7 = (10, )\n",
        "tupla_general = tupla_5 + tupla_6 + tupla_7\n",
        "tupla_general\n",
        "\n",
        "#====== REPETIR ==========#\n",
        "\n",
        "print(tupla_5 * 3)\n"
      ],
      "metadata": {
        "colab": {
          "base_uri": "https://localhost:8080/"
        },
        "id": "oSOWR0ydWf3P",
        "outputId": "96d6b40d-ec55-4d95-e81e-7f52c1118742"
      },
      "execution_count": null,
      "outputs": [
        {
          "output_type": "stream",
          "name": "stdout",
          "text": [
            "(1, 2, 3, 4, 5, 1, 2, 3, 4, 5, 1, 2, 3, 4, 5)\n"
          ]
        }
      ]
    },
    {
      "cell_type": "code",
      "source": [
        "# comprabar existencia\n",
        "\n",
        "nombres = tuple(nombres)\n",
        "\n",
        "if \"Juan\"  not in nombres:\n",
        "  print(\"es correcto\")\n",
        "else:\n",
        "  print(\"Es falso\")"
      ],
      "metadata": {
        "colab": {
          "base_uri": "https://localhost:8080/"
        },
        "id": "my0Tx5KxXKp4",
        "outputId": "4cb8a599-f45e-49a7-c3f9-1a69b35cd080"
      },
      "execution_count": null,
      "outputs": [
        {
          "output_type": "stream",
          "name": "stdout",
          "text": [
            "es correcto\n"
          ]
        }
      ]
    },
    {
      "cell_type": "code",
      "source": [
        "# tuplas anidadas\n",
        "\n",
        "cordenandas = ((1,2), (2,7), (5,7), (8,9))\n",
        "\n",
        "for x, y in cordenandas:\n",
        "  print(f\" x = {x}, y: {y}\")"
      ],
      "metadata": {
        "colab": {
          "base_uri": "https://localhost:8080/"
        },
        "id": "Pq-TYSyDXvj8",
        "outputId": "dae15161-9468-4f5e-aa96-2fbf2162ea1b"
      },
      "execution_count": null,
      "outputs": [
        {
          "output_type": "stream",
          "name": "stdout",
          "text": [
            " x = 1, y: 2\n",
            " x = 2, y: 7\n",
            " x = 5, y: 7\n",
            " x = 8, y: 9\n"
          ]
        }
      ]
    },
    {
      "cell_type": "code",
      "source": [
        "# Tuplas como claves en diccionario\n",
        "# las tuplas pueden usarse como claves, porque son inmutable(las listas no)\n",
        "\n",
        "puntos = {\n",
        "    (0, 0): \"origen\",\n",
        "    (1, 2): \"punto A\",\n",
        "    (3, 4): \"punto B\"\n",
        "}\n",
        "\n",
        "print(puntos[(1, 2)])  # punto A\n"
      ],
      "metadata": {
        "colab": {
          "base_uri": "https://localhost:8080/"
        },
        "id": "xJyVGgDNYR8M",
        "outputId": "2b14415a-37be-4b1d-d80d-1b3b942b85c3"
      },
      "execution_count": null,
      "outputs": [
        {
          "output_type": "stream",
          "name": "stdout",
          "text": [
            "punto A\n"
          ]
        }
      ]
    },
    {
      "cell_type": "code",
      "source": [
        "#Comparar tuplas\n",
        "\n",
        "a = (1, 2, 3)\n",
        "b = (1, 3, 2)\n",
        "\n",
        "print( a == b)\n",
        "print( a < b )\n",
        "print(a != b)\n",
        "print(a >= b)"
      ],
      "metadata": {
        "colab": {
          "base_uri": "https://localhost:8080/"
        },
        "id": "mCkO2e2Evfg2",
        "outputId": "f5e54268-de44-41e8-d809-bfbaf2957d3e"
      },
      "execution_count": null,
      "outputs": [
        {
          "output_type": "stream",
          "name": "stdout",
          "text": [
            "False\n",
            "True\n",
            "True\n",
            "False\n"
          ]
        }
      ]
    },
    {
      "cell_type": "code",
      "source": [
        "# Tuplas y funciones (devolución múltiples\n",
        "# Las funciones pueden devolver varias cosas a la vez usando tuplas implícitas.\n",
        "\n",
        "def dividir_y_residuo(x, y):\n",
        "  return x // y, x % y # devuelve una tupla\n",
        "\n",
        "cociente, residuo = dividir_y_residuo(10, 3)\n",
        "print(cociente, residuo)\n",
        "\n",
        "\n",
        "# conversion de tipos\n",
        "\n",
        "lista = [1, 2, 3]\n",
        "tupla = tuple(lista)\n",
        "print(tupla)  # (1, 2, 3)\n",
        "\n",
        "cadena = \"Hola\"\n",
        "print(tuple(cadena))  # ('H', 'o', 'l', 'a')\n",
        "\n"
      ],
      "metadata": {
        "colab": {
          "base_uri": "https://localhost:8080/"
        },
        "id": "rJaUv4z1wMuP",
        "outputId": "0b96daf7-4ef5-49a3-c597-920ad9a78bfc"
      },
      "execution_count": null,
      "outputs": [
        {
          "output_type": "stream",
          "name": "stdout",
          "text": [
            "3 1\n",
            "(1, 2, 3)\n",
            "('H', 'o', 'l', 'a')\n"
          ]
        }
      ]
    },
    {
      "cell_type": "code",
      "source": [
        "# ejemplo completo :\n",
        "\n",
        "personas = (\n",
        "    (\"Ana\", 25, \"Medellín\"),\n",
        "    (\"Luis\", 30, \"Bogotá\"),\n",
        "    (\"Carlos\", 28, \"Cali\")\n",
        ")\n",
        "\n",
        "for people, age, city in personas:\n",
        "  print(f\"{people} tiene una de edad de {age} y vive en {city} \")"
      ],
      "metadata": {
        "colab": {
          "base_uri": "https://localhost:8080/"
        },
        "id": "84l8znMCw9uB",
        "outputId": "6df1032a-3a94-4e23-815e-143428ff6aaa"
      },
      "execution_count": null,
      "outputs": [
        {
          "output_type": "stream",
          "name": "stdout",
          "text": [
            "Ana tiene una de edad de 25 y vive en Medellín \n",
            "Luis tiene una de edad de 30 y vive en Bogotá \n",
            "Carlos tiene una de edad de 28 y vive en Cali \n"
          ]
        }
      ]
    }
  ]
}