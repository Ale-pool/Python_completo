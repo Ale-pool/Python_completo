{
 "cells": [
  {
   "cell_type": "code",
   "execution_count": 1,
   "id": "774c9785",
   "metadata": {},
   "outputs": [
    {
     "data": {
      "text/plain": [
       "' '"
      ]
     },
     "execution_count": 1,
     "metadata": {},
     "output_type": "execute_result"
    }
   ],
   "source": [
    "# **1) Identifica el tipo de dato (int, float, string o list) de los siguientes valores literales**\n",
    "\n",
    "\"Hola Mundo\"   # str \n",
    "[1, 10, 100] # list\n",
    "-25          # float\n",
    "1.167      # float  \n",
    "[\"Hola\", \"Mundo\"]  # list\n",
    "' '        # str\n"
   ]
  },
  {
   "cell_type": "code",
   "execution_count": 8,
   "id": "9ff77624",
   "metadata": {},
   "outputs": [
    {
     "name": "stdout",
     "output_type": "stream",
     "text": [
      "-50\n",
      "15\n",
      "Hola Mundo\n",
      " \n",
      "ol\n",
      "[1, 2, 3, 1, 2, 3]\n"
     ]
    }
   ],
   "source": [
    "# **2) Determina mentalmente (sin programar) el resultado que aparecerá por pantalla a partir de las siguientes variables:**\n",
    "\n",
    "a = 10\n",
    "b = -5\n",
    "c = \"Hola \"\n",
    "d = [1, 2, 3]\n",
    "\n",
    "print(a * b) # - 50\n",
    "print(a -b)#  15\n",
    "print(c  + \"Mundo\") # HolaMundo\n",
    "print(c[-1]) # a\n",
    "print(c[1:3])\n",
    "print(d + d)\n"
   ]
  },
  {
   "cell_type": "code",
   "execution_count": null,
   "id": "b87ef614",
   "metadata": {},
   "outputs": [
    {
     "name": "stdout",
     "output_type": "stream",
     "text": [
      "La nota media es 6.0\n"
     ]
    }
   ],
   "source": [
    "numero_1 = 9\n",
    "numero_2 = 3\n",
    "numero_3 = 6\n",
    "    \n",
    "# media = (numero_1 + numero_2 + numero_3 / 3) # mal \n",
    "media = (numero_1 + numero_2 + numero_3) / 3\n",
    "print(\"La nota media es\", media)"
   ]
  },
  {
   "cell_type": "markdown",
   "id": "292fb5ea",
   "metadata": {},
   "source": [
    "**4) A partir del ejercicio anterior, vamos a suponer que cada número es una nota, y lo que queremos es obtener la nota media. El problema es que cada nota tiene un valor porcentual: **\n",
    "\n",
    "* La primera nota vale un 15% del total\n",
    "* La segunda nota vale un 35% del total\n",
    "* La tercera nota vale un 50% del total\n",
    "\n",
    "**Desarrolla un programa para calcular perfectamente la nota final.**"
   ]
  },
  {
   "cell_type": "code",
   "execution_count": 19,
   "id": "2e3e6bde",
   "metadata": {},
   "outputs": [
    {
     "name": "stdout",
     "output_type": "stream",
     "text": [
      "La nota media es 5.949999999999999\n"
     ]
    }
   ],
   "source": [
    "nota_1 = 10\n",
    "nota_2 = 7\n",
    "nota_3 = 4\n",
    "\n",
    "media = nota_1 * 0.15 + nota_2 * 0.35 + nota_3 * 0.5\n",
    "print(\"La nota media es\", media)\n",
    "\n",
    "# en relacion a los valoresp porcentuales de la media total\n",
    "\n",
    "\n"
   ]
  },
  {
   "cell_type": "markdown",
   "id": "15a31c02",
   "metadata": {},
   "source": [
    "**5) La siguiente matriz (o lista con listas anidadas) debe cumplir una condición, y es que en cada fila, el cuarto elemento siempre debe ser el resultado de sumar los tres primeros. ¿Eres capaz de modificar las sumas incorrectas utilizando la técnica del slicing?**\n",
    "\n",
    "*Ayuda: La función llamada sum(lista) devuelve una suma de todos los elementos de la lista ¡Pruébalo!*"
   ]
  },
  {
   "cell_type": "code",
   "execution_count": null,
   "id": "cfdce25e",
   "metadata": {},
   "outputs": [
    {
     "name": "stdout",
     "output_type": "stream",
     "text": [
      "[[1, 1, 1, 3], [2, 2, 2, 7], [3, 3, 3, 9], [4, 4, 4, 13]]\n",
      "[[1, 1, 1, 3], [2, 2, 2, 6], [3, 3, 3, 9], [4, 4, 4, 12]]\n"
     ]
    }
   ],
   "source": [
    "matriz = [ \n",
    "    [1, 1, 1, 3],\n",
    "    [2, 2, 2, 7],\n",
    "    [3, 3, 3, 9],\n",
    "    [4, 4, 4, 13]\n",
    "]\n",
    "\n",
    "print(matriz)\n",
    "matriz[1][3] = sum(matriz[1][0:3]) # sum suma los elementos de una lista\n",
    "matriz[3][3] = matriz[3][0] + matriz[3][1] + matriz[3][2] # sum(matriz[3][0:3])\n",
    "print(matriz)"
   ]
  },
  {
   "cell_type": "markdown",
   "id": "9aee902a",
   "metadata": {},
   "source": [
    "**6) Al realizar una consulta en un registro hemos obtenido una cadena de texto corrupta al revés. Al parecer contiene el nombre de un alumno y la nota de un exámen. ¿Cómo podríamos formatear la cadena y conseguir una estructura como la siguiente?:**\n",
    "\n",
    "* ***Nombre*** ***Apellido*** ha sacado un ***Nota*** de nota.\n",
    "\n",
    "*Ayuda: Para voltear una cadena rápidamente utilizando slicing podemos utilizar un tercer índice -1: **cadena[::-1]** *"
   ]
  },
  {
   "cell_type": "code",
   "execution_count": 48,
   "id": "ed940e56",
   "metadata": {},
   "outputs": [
    {
     "name": "stdout",
     "output_type": "stream",
     "text": [
      "5 ,Juan Pérez\n",
      "El estudiante Juan Pérez ha sacado una nota de 5 \n"
     ]
    }
   ],
   "source": [
    "cadena = \"zeréP nauJ, 5\"\n",
    "# metodo para invertir una cadena\n",
    "inversa = cadena[::-1]\n",
    "print(inversa)\n",
    "nombre = inversa[3:7]\n",
    "apellido = inversa[8:]\n",
    "nota = inversa[0:2]\n",
    "print(f\"El estudiante {nombre} {apellido} ha sacado una nota de {nota}\")\n"
   ]
  }
 ],
 "metadata": {
  "kernelspec": {
   "display_name": "Python 3",
   "language": "python",
   "name": "python3"
  },
  "language_info": {
   "codemirror_mode": {
    "name": "ipython",
    "version": 3
   },
   "file_extension": ".py",
   "mimetype": "text/x-python",
   "name": "python",
   "nbconvert_exporter": "python",
   "pygments_lexer": "ipython3",
   "version": "3.12.6"
  }
 },
 "nbformat": 4,
 "nbformat_minor": 5
}
