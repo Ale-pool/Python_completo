{
 "cells": [
  {
   "cell_type": "markdown",
   "id": "a097085a",
   "metadata": {},
   "source": [
    "# SCLING TODO LO QUE SE DEBE TENER EN CUENTA\n",
    "\n",
    "El slicing en Python es una forma de extraer partes (subsecuencias) de cadenas, listas, tuplas o cualquier objeto secuencial.\n",
    "Se basa en el uso de corchetes [ ] con la notación:"
   ]
  },
  {
   "cell_type": "code",
   "execution_count": null,
   "id": "0c7508b7",
   "metadata": {},
   "outputs": [
    {
     "name": "stdout",
     "output_type": "stream",
     "text": [
      "JAVA\n",
      "JV\n",
      "AA\n",
      "A\n",
      "AVA\n",
      "JA\n"
     ]
    }
   ],
   "source": [
    "texto  = \"JAVA\"\n",
    "print(texto)\n",
    "\n",
    "# Extraer una parte de la cadena\n",
    "texto[:2]\n",
    "texto[2:]\n",
    "\n",
    "# OMITIR inicio o fin\n",
    "texto[:]\n",
    "texto[-1:]\n",
    "\n",
    "print(texto[::2])  # De dos en dos\n",
    "print(texto[1::2])  # De dos en dos pero empezando desde el indice 1\n",
    "\n",
    "\n",
    "print(texto[-1])     # 'último carácter\n",
    "print(texto[-3:])    # 'desde el tercer último hasta el final\n",
    "print(texto[:-2])    # 'todo excepto los últimos dos\n"
   ]
  },
  {
   "cell_type": "code",
   "execution_count": 6,
   "id": "5c606f35",
   "metadata": {},
   "outputs": [
    {
     "ename": "TypeError",
     "evalue": "'str' object does not support item assignment",
     "output_type": "error",
     "traceback": [
      "\u001b[1;31m---------------------------------------------------------------------------\u001b[0m",
      "\u001b[1;31mTypeError\u001b[0m                                 Traceback (most recent call last)",
      "Cell \u001b[1;32mIn[6], line 7\u001b[0m\n\u001b[0;32m      4\u001b[0m nombre[\u001b[38;5;241m13\u001b[39m:\u001b[38;5;241m20\u001b[39m]\n\u001b[0;32m      6\u001b[0m \u001b[38;5;66;03m# Si quiero modificar una cadena, no puedo porque las cadenas son inmutables\u001b[39;00m\n\u001b[1;32m----> 7\u001b[0m \u001b[43mnombre\u001b[49m\u001b[43m[\u001b[49m\u001b[38;5;241;43m0\u001b[39;49m\u001b[43m]\u001b[49m \u001b[38;5;241m=\u001b[39m \u001b[38;5;124m\"\u001b[39m\u001b[38;5;124ml\u001b[39m\u001b[38;5;124m\"\u001b[39m\n",
      "\u001b[1;31mTypeError\u001b[0m: 'str' object does not support item assignment"
     ]
    }
   ],
   "source": [
    "nombre = \"Alex Villada Barrios\"\n",
    "nombre[0:4]\n",
    "nombre[5:12]\n",
    "nombre[13:20]\n",
    "\n",
    "# Si quiero modificar una cadena, no puedo porque las cadenas son inmutables\n",
    "nombre[0] = \"l\""
   ]
  },
  {
   "cell_type": "code",
   "execution_count": null,
   "id": "c94b9f95",
   "metadata": {},
   "outputs": [
    {
     "name": "stdout",
     "output_type": "stream",
     "text": [
      "Alejandro Villada Barrios\n"
     ]
    }
   ],
   "source": [
    "# pero es diferente cuando trabajamos con  scling \n",
    "\n",
    "nombre = \"Alex Villada Barrios\"\n",
    "nombre = nombre.replace(\"Alex\", \"Alejandro\") # esto ya es utilizando una nueva función replace\n",
    "print(nombre)\n"
   ]
  },
  {
   "cell_type": "code",
   "execution_count": 32,
   "id": "66a1722b",
   "metadata": {},
   "outputs": [
    {
     "name": "stdout",
     "output_type": "stream",
     "text": [
      "Juan no esta aqui en Medellin\n",
      "Luan no esta aqui en sabaneta\n",
      "Juan si esta aqui en Medellin\n"
     ]
    }
   ],
   "source": [
    "cadena = \"Juan no esta aqui en sabaneta\"\n",
    "nueva = cadena[:21] + \"Medellin\"\n",
    "print(nueva)\n",
    "\n",
    "# Caso 2: cambiar una sola letra con slicing\n",
    "nueva = \"L\" + cadena[1:]\n",
    "print(nueva)\n",
    "\n",
    "# Caso 3: reemplazar varias partes\n",
    "nueva = cadena[:5] + \"si\" + cadena[7:18] +  \"en\" + cadena[4:5] + \"Medellin\"\n",
    "print(nueva)\n"
   ]
  },
  {
   "cell_type": "code",
   "execution_count": 48,
   "id": "957f474c",
   "metadata": {},
   "outputs": [
    {
     "name": "stdout",
     "output_type": "stream",
     "text": [
      "[10, 20, 30, 40, 50, 60, 80, 100]\n",
      "es [40, 50, 60, 80, 100]\n",
      "[20, 30, 40]\n",
      "[10, 20, 30]\n"
     ]
    }
   ],
   "source": [
    "# Ahora miremos el scling con listas\n",
    "\n",
    "numeros = [10, 20, 30, 40, 50, 60, 80, 100]\n",
    "print(numeros)\n",
    "numeros[0:3]\n",
    "print(f\"es {numeros[3:]}\") \n",
    "numeros[:]\n",
    "numeros[-1]\n",
    "numeros[::2] # De dos en dos\n",
    "numeros[1::3] # De dos en dos pero empezando desde el indice\n",
    "\n",
    "\n",
    "# extraer subconjuntos de la lista\n",
    "print(numeros[1:4])   # [20, 30, 40]\n",
    "print(numeros[:3])    # [10, 20, 30]\n",
    "\n"
   ]
  }
 ],
 "metadata": {
  "kernelspec": {
   "display_name": "Python 3",
   "language": "python",
   "name": "python3"
  },
  "language_info": {
   "codemirror_mode": {
    "name": "ipython",
    "version": 3
   },
   "file_extension": ".py",
   "mimetype": "text/x-python",
   "name": "python",
   "nbconvert_exporter": "python",
   "pygments_lexer": "ipython3",
   "version": "3.12.6"
  }
 },
 "nbformat": 4,
 "nbformat_minor": 5
}
