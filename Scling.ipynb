{
 "cells": [
  {
   "cell_type": "markdown",
   "id": "a097085a",
   "metadata": {},
   "source": [
    "# SCLING TODO LO QUE SE DEBE TENER EN CUENTA\n",
    "\n",
    "El slicing en Python es una forma de extraer partes (subsecuencias) de cadenas, listas, tuplas o cualquier objeto secuencial.\n",
    "Se basa en el uso de corchetes [ ] con la notación:"
   ]
  },
  {
   "cell_type": "code",
   "execution_count": null,
   "id": "0c7508b7",
   "metadata": {},
   "outputs": [
    {
     "name": "stdout",
     "output_type": "stream",
     "text": [
      "JAVA\n",
      "JV\n",
      "AA\n",
      "A\n",
      "AVA\n",
      "JA\n"
     ]
    }
   ],
   "source": [
    "texto  = \"JAVA\"\n",
    "print(texto)\n",
    "\n",
    "# Extraer una parte de la cadena\n",
    "texto[:2]\n",
    "texto[2:]\n",
    "\n",
    "# OMITIR inicio o fin\n",
    "texto[:]\n",
    "texto[-1:]\n",
    "\n",
    "print(texto[::2])  # De dos en dos\n",
    "print(texto[1::2])  # De dos en dos pero empezando desde el indice 1\n",
    "\n",
    "\n",
    "print(texto[-1])     # 'último carácter\n",
    "print(texto[-3:])    # 'desde el tercer último hasta el final\n",
    "print(texto[:-2])    # 'todo excepto los últimos dos\n"
   ]
  }
 ],
 "metadata": {
  "kernelspec": {
   "display_name": "Python 3",
   "language": "python",
   "name": "python3"
  },
  "language_info": {
   "codemirror_mode": {
    "name": "ipython",
    "version": 3
   },
   "file_extension": ".py",
   "mimetype": "text/x-python",
   "name": "python",
   "nbconvert_exporter": "python",
   "pygments_lexer": "ipython3",
   "version": "3.12.6"
  }
 },
 "nbformat": 4,
 "nbformat_minor": 5
}
