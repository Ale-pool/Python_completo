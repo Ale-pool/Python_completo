{
  "nbformat": 4,
  "nbformat_minor": 0,
  "metadata": {
    "colab": {
      "provenance": [],
      "authorship_tag": "ABX9TyNslNE5XxOmscTRM8AIk/Nx",
      "include_colab_link": true
    },
    "kernelspec": {
      "name": "python3",
      "display_name": "Python 3"
    },
    "language_info": {
      "name": "python"
    }
  },
  "cells": [
    {
      "cell_type": "markdown",
      "metadata": {
        "id": "view-in-github",
        "colab_type": "text"
      },
      "source": [
        "<a href=\"https://colab.research.google.com/github/Ale-pool/Python_completo/blob/master/Tema2_ejercicios.ipynb\" target=\"_parent\"><img src=\"https://colab.research.google.com/assets/colab-badge.svg\" alt=\"Open In Colab\"/></a>"
      ]
    },
    {
      "cell_type": "markdown",
      "source": [
        "# Tema 02: Operadores y expresiones (Enunciados)\n",
        "*Nota: Estos ejercicios son optativos para hacer al final de la unidad y están pensados para apoyar tu aprendizaje*."
      ],
      "metadata": {
        "id": "QS52biLEI5wg"
      }
    },
    {
      "cell_type": "markdown",
      "source": [
        "**1) Realiza un programa que lea 2 números por teclado y determine los siguientes aspectos (es suficiene con mostrar True o False):**\n",
        "* Si los dos números son iguales\n",
        "* Si los dos números son diferentes\n",
        "* Si el primero es mayor que el segundo\n",
        "* Si el segundo es mayor o igual que el primero"
      ],
      "metadata": {
        "id": "cGdNSy6fI-GJ"
      }
    },
    {
      "cell_type": "code",
      "source": [
        "num_1 = 10\n",
        "num_2 = 20\n",
        "\n",
        "# Comparaciones aritmeticas y relacionales\n",
        "\n",
        "print(f\"El numero {num_1} y {num_2} son iguales: {num_1 == num_2}\")\n",
        "print(f\"El numero {num_1} y {num_2} son diferentes: {num_1 != num_2}\")\n",
        "print(f\"El numero {num_1} es mayor al numero {num_2}: {num_1 > num_2}\")\n",
        "print(f\"El numero {num_1} es mayor al numero {num_2}: {num_1 >=  num_2}\")\n",
        "\n"
      ],
      "metadata": {
        "colab": {
          "base_uri": "https://localhost:8080/"
        },
        "id": "gZPhmb5MI-pu",
        "outputId": "2244191b-6d39-4f17-88e0-b5f64df58fdf"
      },
      "execution_count": null,
      "outputs": [
        {
          "output_type": "stream",
          "name": "stdout",
          "text": [
            "El numero 10 y 20 son iguales: False\n",
            "El numero 10 y 20 son diferentes: True\n",
            "El numero 10 es mayor al numero 20: False\n",
            "El numero 10 es mayor al numero 20: False\n"
          ]
        },
        {
          "output_type": "execute_result",
          "data": {
            "text/plain": [
              "False"
            ]
          },
          "metadata": {},
          "execution_count": 8
        }
      ]
    },
    {
      "cell_type": "markdown",
      "source": [
        "**2) Utilizando operadores lógicos, determina si una cadena de texto introducida por el usuario tiene una longitud mayor o igual que 3 y a su vez es menor que 10 (es suficiene con mostrar True o False):**"
      ],
      "metadata": {
        "id": "stfzysgBKZx7"
      }
    },
    {
      "cell_type": "code",
      "source": [
        "cadena = input(\"Ingrese una cadena :\")\n",
        "\n",
        "if len(cadena) >= 3 and len(cadena) <= 10:\n",
        "  print(f\"La {cadena} esta entre los valores correctos\")\n",
        "else:\n",
        "  print(f\"La {cadena}, no esta entre el rango solicitado\")"
      ],
      "metadata": {
        "colab": {
          "base_uri": "https://localhost:8080/"
        },
        "id": "yH8Y7XSZKa2Q",
        "outputId": "798063e5-a3a6-45a9-f938-5d1beef78bf4"
      },
      "execution_count": null,
      "outputs": [
        {
          "output_type": "stream",
          "name": "stdout",
          "text": [
            "Ingrese una cadena :Buenas\n",
            "La Buenas esta entre los valores correctos\n"
          ]
        }
      ]
    },
    {
      "cell_type": "markdown",
      "source": [
        "**3) Realiza un programa que cumpla el siguiente algoritmo utilizando siempre que sea posible operadores en asignación:**\n",
        "* Guarda en una variable numero_magico el valor 12345679 (sin el 8)\n",
        "* Lee por pantalla otro numero_usuario, especifica que sea entre 1 y 9 (asegúrate que es un número)\n",
        "* Multiplica el numero_usuario por 9 en sí mismo\n",
        "* Multiplica el numero_magico por el numero_usuario en sí mismo\n",
        "* Finalmente muestra el valor final del numero_magico por pantalla"
      ],
      "metadata": {
        "id": "vYDEuLBTL49Q"
      }
    },
    {
      "cell_type": "code",
      "source": [
        "numero_magico = 12345679\n",
        "print(\"VAMOS A JUGAR UN JUEGO DE NUMERO MAGICO\")\n",
        "numero_usu = int(input(\"Ingrese un numero que este entre 1 y 9: \"))\n",
        "\n",
        "# Operaciones\n",
        "numero_usu *= 9\n",
        "numero_magico *= numero_usu\n",
        "print(f\"El numero magico ahora es: {numero_magico}\")\n",
        "\n",
        "\n",
        "# recordar que cuando se pide que se realice alguna operacion de un numero en si mismo es por ejemplo valor *= 4 , modena += libra etc, hay que tener claro esa observación\n",
        "\n",
        "\n"
      ],
      "metadata": {
        "colab": {
          "base_uri": "https://localhost:8080/"
        },
        "id": "rc_Xb_dOL5pZ",
        "outputId": "78a4c583-a18b-4eab-9589-7ce0241a98d8"
      },
      "execution_count": null,
      "outputs": [
        {
          "output_type": "stream",
          "name": "stdout",
          "text": [
            "VAMOS A JUGAR UN JUEGO DE NUMERO MAGICO\n",
            "Ingrese un numero que este entre 1 y 9: 7\n",
            "El numero magico ahora es: 777777777\n"
          ]
        }
      ]
    }
  ]
}