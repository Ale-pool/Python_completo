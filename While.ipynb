{
  "cells": [
    {
      "cell_type": "markdown",
      "metadata": {
        "id": "view-in-github",
        "colab_type": "text"
      },
      "source": [
        "<a href=\"https://colab.research.google.com/github/Ale-pool/Python_completo/blob/TRUNK/While.ipynb\" target=\"_parent\"><img src=\"https://colab.research.google.com/assets/colab-badge.svg\" alt=\"Open In Colab\"/></a>"
      ]
    },
    {
      "cell_type": "markdown",
      "metadata": {
        "id": "O5ePLuVFW0ZU"
      },
      "source": [
        "# La sentencia while en Python\n",
        "\n",
        "#### El while ejecuta un bloque de código mientras una condición sea verdadera (True).\n",
        "Cuando la condición deja de cumplirse, el bucle termina."
      ]
    },
    {
      "cell_type": "code",
      "source": [
        "contador = 0\n",
        "\n",
        "while contador <= 10:\n",
        "   print(\"Iteraciones\", contador)\n",
        "   contador += 1  # si no tuviera esto, el ciclo seria infinito"
      ],
      "metadata": {
        "colab": {
          "base_uri": "https://localhost:8080/"
        },
        "id": "i9IyhbW8dqv8",
        "outputId": "666c37a5-80e7-4b33-f643-f5f97ad21ac4"
      },
      "execution_count": null,
      "outputs": [
        {
          "output_type": "stream",
          "name": "stdout",
          "text": [
            "Iteraciones 0\n",
            "Iteraciones 1\n",
            "Iteraciones 2\n",
            "Iteraciones 3\n",
            "Iteraciones 4\n",
            "Iteraciones 5\n",
            "Iteraciones 6\n",
            "Iteraciones 7\n",
            "Iteraciones 8\n",
            "Iteraciones 9\n",
            "Iteraciones 10\n"
          ]
        }
      ]
    },
    {
      "cell_type": "code",
      "source": [
        "# iterar significa hacer una acción varias veces, cada vez que se repite una iteración\n",
        "\n",
        "c= 0\n",
        "\n",
        "while c <= 5:\n",
        "  c+=1\n",
        "  print(\"C vale\", c)\n"
      ],
      "metadata": {
        "colab": {
          "base_uri": "https://localhost:8080/"
        },
        "id": "llihfQN_d_aS",
        "outputId": "8ca1e42d-bb52-483f-bd3c-b7179aaab71f"
      },
      "execution_count": null,
      "outputs": [
        {
          "output_type": "stream",
          "name": "stdout",
          "text": [
            "C vale 1\n",
            "C vale 2\n",
            "C vale 3\n",
            "C vale 4\n",
            "C vale 5\n",
            "C vale 6\n"
          ]
        }
      ]
    },
    {
      "cell_type": "markdown",
      "source": [
        "## Sentencia Else en bucle While\n",
        "Se encadena al While para ejecutar un bloque de código una vez la condición ya no devuelve True (normalmente al final)."
      ],
      "metadata": {
        "id": "M-Sjt7KBexcm"
      }
    },
    {
      "cell_type": "code",
      "source": [
        "c = 0\n",
        "\n",
        "while c < 10:\n",
        "  c+=2\n",
        "  print(\"C vale\", c)\n",
        "else:\n",
        "  print(\"Se ha completado la iteración y c vale\", c)"
      ],
      "metadata": {
        "colab": {
          "base_uri": "https://localhost:8080/"
        },
        "id": "2aazsx6Fex7z",
        "outputId": "09f400a2-a317-4583-f5c7-969276248823"
      },
      "execution_count": null,
      "outputs": [
        {
          "output_type": "stream",
          "name": "stdout",
          "text": [
            "C vale 2\n",
            "C vale 4\n",
            "C vale 6\n",
            "C vale 8\n",
            "C vale 10\n",
            "Se ha completado la iteración y c vale 10\n"
          ]
        }
      ]
    },
    {
      "cell_type": "markdown",
      "source": [
        "4. Uso de break y continue\n",
        "\n",
        "break → rompe el ciclo antes de que termine naturalmente.\n",
        "\n",
        "continue → salta a la siguiente iteración sin ejecutar lo demás del bloque."
      ],
      "metadata": {
        "id": "sqCH3i9Cds3M"
      }
    },
    {
      "cell_type": "code",
      "source": [
        "n = 0\n",
        "while n < 10:\n",
        "    n += 1\n",
        "    if n == 5:\n",
        "        continue  # salta cuando n=5\n",
        "    if n == 8:\n",
        "        break     # rompe el bucle cuando n=8\n",
        "    print(n)\n",
        "\n",
        "\n",
        "###############33\n",
        "\n",
        "c = 0\n",
        "while c <= 5:\n",
        "    c+=1\n",
        "    if (c==4):\n",
        "        print(\"Rompemos el bucle cuando c vale\",c)\n",
        "        break\n",
        "    print(\"c vale\",c)\n",
        "else:\n",
        "    print(\"Se ha completado toda la iteración y c vale\",c)"
      ],
      "metadata": {
        "colab": {
          "base_uri": "https://localhost:8080/"
        },
        "id": "OdrFtZC-de6R",
        "outputId": "49ed6d61-f5c7-4ac6-8dbb-3161323b0aa0"
      },
      "execution_count": null,
      "outputs": [
        {
          "output_type": "stream",
          "name": "stdout",
          "text": [
            "1\n",
            "2\n",
            "3\n",
            "4\n",
            "6\n",
            "7\n",
            "c vale 1\n",
            "c vale 2\n",
            "c vale 3\n",
            "Rompemos el bucle cuando c vale 4\n"
          ]
        }
      ]
    },
    {
      "cell_type": "code",
      "source": [
        "## CONTINUE\n",
        "\n",
        "c = 0\n",
        "while c <= 5:\n",
        "    c+=1\n",
        "    if c==3 or c==4:\n",
        "        # print(\"Continuamos con la siguiente iteración\",c)\n",
        "        continue\n",
        "    print(\"c vale\",c)\n",
        "else:\n",
        "    print(\"Se ha completado toda la iteración y c vale\",c)"
      ],
      "metadata": {
        "colab": {
          "base_uri": "https://localhost:8080/"
        },
        "id": "iEOdzpz7fhos",
        "outputId": "7dee030c-dbd5-4354-d849-85dc803d4ede"
      },
      "execution_count": null,
      "outputs": [
        {
          "output_type": "stream",
          "name": "stdout",
          "text": [
            "c vale 1\n",
            "c vale 2\n",
            "c vale 5\n",
            "c vale 6\n",
            "Se ha completado toda la iteración y c vale 6\n"
          ]
        }
      ]
    },
    {
      "cell_type": "code",
      "source": [
        "\n",
        "# VAMOS A CREAR UN MENU INTERACTIVO\n",
        "\n",
        "print(\"BIENVENIDO AL MENU INTERACTIVO\")\n",
        "while(True):\n",
        "  print(\"\"\" ¿Que quieres hace, hoy?, Escribe una opción\n",
        "            1) saludar\n",
        "            2) sumar dos numeros\n",
        "            3) salir\"\"\")\n",
        "  opcion = input()\n",
        "  if opcion == \"1\":\n",
        "    print(\"Hola, espero que estes muy bien parcero\")\n",
        "  elif opcion == \"2\":\n",
        "     n1 = int(input(\"Introduce el primer numero: \"))\n",
        "     n2 = int(input(\"Introduce el segundo numero: \"))\n",
        "     print(f\"El resultado de la suma entre {n1} y {n2} es: {n1+ n2}\")\n",
        "  elif opcion == \"3\":\n",
        "    print(\"Ha sido un placer poder ayudarte, Nos vemos\")\n",
        "    break\n",
        "  else:\n",
        "    print(\"comando desconocido, Vuelve a intentarlo\")"
      ],
      "metadata": {
        "colab": {
          "base_uri": "https://localhost:8080/"
        },
        "id": "5XgWBtUdf-dF",
        "outputId": "f7f77653-5a5a-482f-a6a8-9bbbf1eb0e74"
      },
      "execution_count": null,
      "outputs": [
        {
          "output_type": "stream",
          "name": "stdout",
          "text": [
            "BIENVENIDO AL MENU INTERACTIVO\n",
            " ¿Que quieres hace, hoy?, Escribe una opción\n",
            "            1) saludar\n",
            "            2) sumar dos numeros \n",
            "            3) salir\n",
            "1\n",
            "Hola, espero que estes muy bien parcero\n",
            " ¿Que quieres hace, hoy?, Escribe una opción\n",
            "            1) saludar\n",
            "            2) sumar dos numeros \n",
            "            3) salir\n",
            "1)\n",
            "comando desconocido, Vuelve a intentarlo\n",
            " ¿Que quieres hace, hoy?, Escribe una opción\n",
            "            1) saludar\n",
            "            2) sumar dos numeros \n",
            "            3) salir\n",
            "2\n",
            "Introduce el primer numero: 100\n",
            "Introduce el segundo numero: 100\n",
            "El resultado de la suma entre 100 y 100 es: 200\n",
            " ¿Que quieres hace, hoy?, Escribe una opción\n",
            "            1) saludar\n",
            "            2) sumar dos numeros \n",
            "            3) salir\n",
            "3\n",
            "Ha sido un placer poder ayudarte, Nos vemos\n"
          ]
        }
      ]
    },
    {
      "cell_type": "code",
      "source": [
        "# esperar un input valido\n",
        "\n",
        "contraseña = \"\"\n",
        "while contraseña != \"python123\":\n",
        "    contraseña = input(\"Introduce la contraseña: \")\n",
        "print(\"Acceso concedido \")\n"
      ],
      "metadata": {
        "colab": {
          "base_uri": "https://localhost:8080/"
        },
        "id": "zbmrtkZGi6p-",
        "outputId": "d32569a1-7f01-4308-d501-1f7868723189"
      },
      "execution_count": null,
      "outputs": [
        {
          "output_type": "stream",
          "name": "stdout",
          "text": [
            "Introduce la contraseña: python123\n",
            "Acceso concedido \n"
          ]
        }
      ]
    },
    {
      "cell_type": "code",
      "source": [
        "#U USOS MAS AVANZADOS\n",
        "\n",
        "def obtener_numero_valido():\n",
        "    while True:\n",
        "        try:\n",
        "            numero = int(input(\"Ingresa un número entre 1 y 10: \"))\n",
        "            if 1 <= numero <= 10:\n",
        "                return numero\n",
        "            else:\n",
        "                print(\"Error: El número debe estar entre 1 y 10\")\n",
        "        except ValueError:\n",
        "            print(\"Error: Debes ingresar un número válido\")\n",
        "\n",
        "# Uso\n",
        "numero = obtener_numero_valido()\n",
        "print(f\"Número válido ingresado: {numero}\")"
      ],
      "metadata": {
        "colab": {
          "base_uri": "https://localhost:8080/"
        },
        "id": "8WiIsOuVolh-",
        "outputId": "1391575d-9458-4fc2-c45c-bc5e8c819268"
      },
      "execution_count": null,
      "outputs": [
        {
          "output_type": "stream",
          "name": "stdout",
          "text": [
            "Ingresa un número entre 1 y 10: 6\n",
            "Número válido ingresado: 6\n"
          ]
        }
      ]
    },
    {
      "cell_type": "markdown",
      "source": [
        "Enunciado:\n",
        "Crea un programa que genere un número aleatorio entre 1 y 100. El usuario debe adivinarlo. El programa debe:\n",
        "\n",
        "Pedir al usuario que ingrese números hasta que adivine\n",
        "Dar pistas: \"Muy alto\" o \"Muy bajo\"\n",
        "Contar el número de intentos\n",
        "Mostrar un mensaje de felicitación al final"
      ],
      "metadata": {
        "id": "xVD_ptrPpH-i"
      }
    },
    {
      "cell_type": "code",
      "source": [
        "# este ejercio tiene diferentes puntos :\n",
        "\"\"\"\n",
        "Usaremos la libreria import ramdom\n",
        "tambien usaremos una función def\n",
        "de igual manera el ciclo while\n",
        "tambien usaremos el try\n",
        "\"\"\"\n",
        "\n",
        "import random\n",
        "\n",
        "def adivinar_numero():\n",
        "  numero_secreto = random.randint(1, 100) # esta variable, tendra nuestro numero a adivinar\n",
        "  intentos = 0 # esto funciona como un contador\n",
        "  adivinado = False # un booleando que evalua si ya se adivono el numero, mientras sea False, se sequira iterando\n",
        "\n",
        "  print(\"BIENVENDO AL JUEGO DE LA ADIVINANZA\")\n",
        "  print(\"HE PENSADO ENTRE UN NUMERO ENTRE 1 Y 100\")\n",
        "\n",
        "  while not adivinado:\n",
        "    try:\n",
        "      intento = int(input(f\"intento {intentos + 1} :\"))\n",
        "      intentos += 1\n",
        "\n",
        "      if intento == numero_secreto:\n",
        "        adivinado = True\n",
        "        print(\"FELICITACIONES, ADIVINASTE EL NUMERO\")\n",
        "      elif intento < numero_secreto:\n",
        "        print(\"Muy bajo, Intenta con un numero mayor\")\n",
        "      else:\n",
        "        print(\"Muy Alto, intenta con un numero mas bajo\")\n",
        "\n",
        "    except ValueError:\n",
        "      print(\"Por favor ingresa un numero valido\")\n",
        "  return intentos\n",
        "\n",
        "\n",
        "empezar = adivinar_numero()\n"
      ],
      "metadata": {
        "id": "WsXdCxZNpIhH",
        "colab": {
          "base_uri": "https://localhost:8080/"
        },
        "outputId": "abc437d2-bfec-43e9-af5a-1eddbf135338"
      },
      "execution_count": 36,
      "outputs": [
        {
          "output_type": "stream",
          "name": "stdout",
          "text": [
            "BIENVENDO AL JUEGO DE LA ADIVINANZA\n",
            "HE PENSADO ENTRE UN NUMERO ENTRE 1 Y 100\n",
            "intento 1 :60\n",
            "Muy bajo, Intenta con un numero mayor\n",
            "intento 2 :70\n",
            "Muy Alto, intenta con un numero mas bajo\n",
            "intento 3 :65\n",
            "Muy Alto, intenta con un numero mas bajo\n",
            "intento 4 :64\n",
            "FELICITACIONES, ADIVINASTE EL NUMERO\n"
          ]
        }
      ]
    }
  ],
  "metadata": {
    "colab": {
      "provenance": [],
      "authorship_tag": "ABX9TyOkFy5bzo1GOu7uchw36x4w",
      "include_colab_link": true
    },
    "kernelspec": {
      "display_name": "Python 3",
      "name": "python3"
    },
    "language_info": {
      "name": "python"
    }
  },
  "nbformat": 4,
  "nbformat_minor": 0
}