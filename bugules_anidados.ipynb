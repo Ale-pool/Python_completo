{
 "cells": [
  {
   "cell_type": "markdown",
   "id": "a7b9f787",
   "metadata": {},
   "source": [
    "# BUGLES ANIDADOS "
   ]
  },
  {
   "cell_type": "code",
   "execution_count": 9,
   "id": "2c191a12",
   "metadata": {},
   "outputs": [
    {
     "name": "stdout",
     "output_type": "stream",
     "text": [
      "['Hola', 10, 'Como vas', [1, 4, 3]]\n"
     ]
    }
   ],
   "source": [
    "# Observemos la siguiente lista y vamos a analizarla \n",
    "lista = [\"Hola\", 10, \"Como vas\", [1,4,3]]\n",
    "print(lista)"
   ]
  },
  {
   "cell_type": "code",
   "execution_count": 11,
   "id": "8c0bddff",
   "metadata": {},
   "outputs": [
    {
     "data": {
      "text/plain": [
       "3"
      ]
     },
     "execution_count": 11,
     "metadata": {},
     "output_type": "execute_result"
    }
   ],
   "source": [
    "lista[-1][-1] \n"
   ]
  },
  {
   "cell_type": "code",
   "execution_count": 21,
   "id": "8d57f950",
   "metadata": {},
   "outputs": [
    {
     "name": "stdout",
     "output_type": "stream",
     "text": [
      "1\n",
      "4\n",
      "3\n"
     ]
    }
   ],
   "source": [
    "for indice in lista[-1]:\n",
    "    print(indice)"
   ]
  },
  {
   "cell_type": "code",
   "execution_count": 26,
   "id": "c4619def",
   "metadata": {},
   "outputs": [],
   "source": [
    "lista2 = [\n",
    "    \"Esto es un str\", # str\n",
    "    (1, 2, 3, 4, 5),  # tupla\n",
    "    [\"Azul\", \"Rojo\", \"Verde\"] # lista\n",
    "]"
   ]
  },
  {
   "cell_type": "code",
   "execution_count": 28,
   "id": "917acc46",
   "metadata": {},
   "outputs": [
    {
     "name": "stdout",
     "output_type": "stream",
     "text": [
      "Esto es un str\n",
      "(1, 2, 3, 4, 5)\n",
      "['Azul', 'Rojo', 'Verde']\n"
     ]
    }
   ],
   "source": [
    "for elemento in lista2:\n",
    "    print(elemento)"
   ]
  },
  {
   "cell_type": "code",
   "execution_count": 29,
   "id": "692efde6",
   "metadata": {},
   "outputs": [
    {
     "name": "stdout",
     "output_type": "stream",
     "text": [
      "E\n",
      "s\n",
      "t\n",
      "o\n",
      " \n",
      "e\n",
      "s\n",
      " \n",
      "u\n",
      "n\n",
      " \n",
      "s\n",
      "t\n",
      "r\n",
      "1\n",
      "2\n",
      "3\n",
      "4\n",
      "5\n",
      "Azul\n",
      "Rojo\n",
      "Verde\n"
     ]
    }
   ],
   "source": [
    "for colecciones in lista2:\n",
    "    for elemento in colecciones:\n",
    "        print(elemento)\n"
   ]
  },
  {
   "cell_type": "code",
   "execution_count": 30,
   "id": "bfbaca80",
   "metadata": {},
   "outputs": [
    {
     "name": "stdout",
     "output_type": "stream",
     "text": [
      "el indice es 0 y el elemento es Esto es un str\n",
      "el indice es 1 y el elemento es (1, 2, 3, 4, 5)\n",
      "el indice es 2 y el elemento es ['Azul', 'Rojo', 'Verde']\n"
     ]
    }
   ],
   "source": [
    "for indice, colecciones in enumerate(lista2):\n",
    "    print(f\"el indice es {indice} y el elemento es {colecciones}\")\n",
    "\n",
    "    "
   ]
  },
  {
   "cell_type": "code",
   "execution_count": 31,
   "id": "4b221a4d",
   "metadata": {},
   "outputs": [
    {
     "name": "stdout",
     "output_type": "stream",
     "text": [
      "el indice es 0, el subindice es 0 y el elemento es E\n",
      "el indice es 0, el subindice es 1 y el elemento es s\n",
      "el indice es 0, el subindice es 2 y el elemento es t\n",
      "el indice es 0, el subindice es 3 y el elemento es o\n",
      "el indice es 0, el subindice es 4 y el elemento es  \n",
      "el indice es 0, el subindice es 5 y el elemento es e\n",
      "el indice es 0, el subindice es 6 y el elemento es s\n",
      "el indice es 0, el subindice es 7 y el elemento es  \n",
      "el indice es 0, el subindice es 8 y el elemento es u\n",
      "el indice es 0, el subindice es 9 y el elemento es n\n",
      "el indice es 0, el subindice es 10 y el elemento es  \n",
      "el indice es 0, el subindice es 11 y el elemento es s\n",
      "el indice es 0, el subindice es 12 y el elemento es t\n",
      "el indice es 0, el subindice es 13 y el elemento es r\n",
      "el indice es 1, el subindice es 0 y el elemento es 1\n",
      "el indice es 1, el subindice es 1 y el elemento es 2\n",
      "el indice es 1, el subindice es 2 y el elemento es 3\n",
      "el indice es 1, el subindice es 3 y el elemento es 4\n",
      "el indice es 1, el subindice es 4 y el elemento es 5\n",
      "el indice es 2, el subindice es 0 y el elemento es Azul\n",
      "el indice es 2, el subindice es 1 y el elemento es Rojo\n",
      "el indice es 2, el subindice es 2 y el elemento es Verde\n"
     ]
    }
   ],
   "source": [
    "for indice, colecciones in enumerate(lista2):\n",
    "    for subindice, elemento in enumerate(colecciones):\n",
    "        print(f\"el indice es {indice}, el subindice es {subindice} y el elemento es {elemento}\")\n"
   ]
  },
  {
   "cell_type": "code",
   "execution_count": 37,
   "id": "5c31a7be",
   "metadata": {},
   "outputs": [
    {
     "name": "stdout",
     "output_type": "stream",
     "text": [
      "E\n",
      "s\n",
      "t\n",
      "o\n",
      " \n",
      "e\n",
      "s\n",
      " \n",
      "u\n",
      "n\n",
      " \n",
      "s\n",
      "t\n",
      "r\n",
      "1\n",
      "2\n",
      "3\n",
      "4\n",
      "5\n",
      "Azul\n",
      "Rojo\n",
      "Verde\n"
     ]
    }
   ],
   "source": [
    "for indice, colecciones in enumerate(lista2):\n",
    "    for subindice, elemento in enumerate(colecciones):\n",
    "        print(lista2[indice][subindice])"
   ]
  },
  {
   "cell_type": "code",
   "execution_count": 38,
   "id": "c6c4a852",
   "metadata": {},
   "outputs": [
    {
     "name": "stdout",
     "output_type": "stream",
     "text": [
      "[1, 2, 3]\n",
      "[4, 5, 6]\n",
      "[7, 8, 9]\n"
     ]
    }
   ],
   "source": [
    "tabla = [\n",
    "    [1, 2, 3],\n",
    "    [4, 5, 6],\n",
    "    [7, 8, 9]\n",
    "]\n",
    "\n",
    "for fila in tabla:\n",
    "    print(fila)"
   ]
  },
  {
   "cell_type": "code",
   "execution_count": 45,
   "id": "cfd6769c",
   "metadata": {},
   "outputs": [
    {
     "name": "stdout",
     "output_type": "stream",
     "text": [
      "1 2 3 \n",
      "4 5 6 \n",
      "7 8 9 \n",
      "##################\n",
      "1 2 3 \n",
      "4 5 6 \n",
      "7 8 9 \n"
     ]
    }
   ],
   "source": [
    "for fila in tabla:\n",
    "    for columna in fila:\n",
    "        print(columna, end=\" \")\n",
    "    print()\n",
    "    \n",
    "# otra forma \n",
    "print(\"##################\")\n",
    "for i, fila in enumerate(tabla):\n",
    "    for j, columna in enumerate(fila):\n",
    "        print(tabla[i][j], end=\" \")\n",
    "    print()\n"
   ]
  },
  {
   "cell_type": "code",
   "execution_count": 48,
   "id": "34ce46bd",
   "metadata": {},
   "outputs": [
    {
     "data": {
      "text/plain": [
       "[[[1, 2, 3], [4, 5, 6], [7, 8, 9]],\n",
       " [[1, 2, 3], [4, 5, 6], [7, 8, 9]],\n",
       " [[1, 2, 3], [4, 5, 6], [7, 8, 9]]]"
      ]
     },
     "execution_count": 48,
     "metadata": {},
     "output_type": "execute_result"
    }
   ],
   "source": [
    "cubo = [ tabla, tabla, tabla ]\n",
    "cubo"
   ]
  },
  {
   "cell_type": "code",
   "execution_count": 51,
   "id": "b1f073d8",
   "metadata": {},
   "outputs": [
    {
     "name": "stdout",
     "output_type": "stream",
     "text": [
      "1 2 3 \n",
      "4 5 6 \n",
      "7 8 9 \n",
      "\n",
      "1 2 3 \n",
      "4 5 6 \n",
      "7 8 9 \n",
      "\n",
      "1 2 3 \n",
      "4 5 6 \n",
      "7 8 9 \n",
      "\n"
     ]
    }
   ],
   "source": [
    "# como se puede definir un cubo\n",
    "# cubo = [[[0 for k in range(3)] for j in range(3)] for i in range(3)]\n",
    "# print(cubo)\n",
    "\n",
    "for k,tabla in enumerate(cubo):\n",
    "    for i, fila in enumerate(tabla):\n",
    "        for j, columna in enumerate(fila):\n",
    "            print(cubo[k][i][j], end=\" \")\n",
    "        print()\n",
    "    print()\n"
   ]
  },
  {
   "cell_type": "code",
   "execution_count": null,
   "id": "565e897a",
   "metadata": {},
   "outputs": [],
   "source": []
  },
  {
   "cell_type": "markdown",
   "id": "85e962c2",
   "metadata": {},
   "source": [
    "Bucles anidados\n",
    "En este ejercicio se te va a facilitar una variable matriz repleta de números enteros y de la cuál lo único que sabes es que contiene dos dimensiones.\n",
    "\n",
    "Aquí tienes una estructura de ejemplo ilustrando como se forma (lista con sublistas), muy parecida a una tabla:\n",
    "\n",
    "matriz = [\n",
    "    [8,  7,  0],\n",
    "    [34, 2, -1],\n",
    "    [5, -5, 12]\n",
    "]\n",
    "\n",
    "El objetivo del ejercicio es modificar su contenido dinámicamente, sustituyendo todos sus números pares por 0 y los impares por 1."
   ]
  },
  {
   "cell_type": "code",
   "execution_count": null,
   "id": "52672a65",
   "metadata": {},
   "outputs": [
    {
     "name": "stdout",
     "output_type": "stream",
     "text": [
      "[[0, 1, 0], [0, 0, 1], [1, 1, 0]]\n"
     ]
    }
   ],
   "source": [
    "# solucion del ejercicio propuesto\n",
    "\n",
    "matriz = [\n",
    "    [8,7,0],\n",
    "    [-34,2,-1],\n",
    "    [5,-5,12]\n",
    "]\n",
    "\n",
    "# El objetivo del ejercicio es modificar su contenido dinámicamente, sustituyendo todos sus números pares por 0 y los impares por 1.\n",
    "\n",
    "for i, fila in enumerate(matriz):\n",
    "    for j, valor in enumerate(fila):\n",
    "        if valor % 2 == 0:  # Si el número es par\n",
    "            matriz[i][j] = 0\n",
    "        else:              # Si el número es impar\n",
    "            matriz[i][j] = 1 \n",
    "\n",
    "print(matriz)"
   ]
  },
  {
   "cell_type": "code",
   "execution_count": 73,
   "id": "ba177218",
   "metadata": {},
   "outputs": [
    {
     "name": "stdout",
     "output_type": "stream",
     "text": [
      "0 es un numero par\n",
      "1 es un numero impar\n",
      "2 es un numero par\n",
      "3 es un numero impar\n",
      "4 es un numero par\n",
      "5 es un numero impar\n",
      "6 es un numero par\n",
      "7 es un numero impar\n",
      "8 es un numero par\n",
      "9 es un numero impar\n",
      "10 es un numero par\n"
     ]
    }
   ],
   "source": [
    "# ejemplo de cabecera\n",
    "n= 0\n",
    "while n<= 10:\n",
    "    if n%2 == 0:\n",
    "        print(f\"{n} es un numero par\")\n",
    "    else:\n",
    "        print(f\"{n} es un numero impar\")\n",
    "    n+=1"
   ]
  },
  {
   "cell_type": "code",
   "execution_count": 77,
   "id": "5e3cc5ff",
   "metadata": {},
   "outputs": [
    {
     "name": "stdout",
     "output_type": "stream",
     "text": [
      "1 x 1 = 1\n",
      "1 x 2 = 2\n",
      "1 x 3 = 3\n",
      "1 x 4 = 4\n",
      "1 x 5 = 5\n",
      "1 x 6 = 6\n",
      "1 x 7 = 7\n",
      "1 x 8 = 8\n",
      "1 x 9 = 9\n",
      "1 x 10 = 10\n",
      "----------\n",
      "2 x 1 = 2\n",
      "2 x 2 = 4\n",
      "2 x 3 = 6\n",
      "2 x 4 = 8\n",
      "2 x 5 = 10\n",
      "2 x 6 = 12\n",
      "2 x 7 = 14\n",
      "2 x 8 = 16\n",
      "2 x 9 = 18\n",
      "2 x 10 = 20\n",
      "----------\n",
      "3 x 1 = 3\n",
      "3 x 2 = 6\n",
      "3 x 3 = 9\n",
      "3 x 4 = 12\n",
      "3 x 5 = 15\n",
      "3 x 6 = 18\n",
      "3 x 7 = 21\n",
      "3 x 8 = 24\n",
      "3 x 9 = 27\n",
      "3 x 10 = 30\n",
      "----------\n"
     ]
    }
   ],
   "source": [
    "# EJEMPLOS DE BUGLES ANIDADOS EN PYTHON \n",
    "\"\"\"\" \n",
    "Descripción: Queremos imprimir la tabla de multiplicar del 1 al 3.\n",
    "El bucle externo recorre los números base.\n",
    "El bucle interno recorre los multiplicadores.\n",
    "\"\"\"\n",
    "\n",
    "for i in range(1, 4): # bucle externo \n",
    "    for j in range(1, 11): # bucle interno\n",
    "        print(f\"{i} x {j} = {i*j}\")\n",
    "    print(\"----------\")\n"
   ]
  },
  {
   "cell_type": "code",
   "execution_count": 79,
   "id": "23e3258e",
   "metadata": {},
   "outputs": [
    {
     "name": "stdout",
     "output_type": "stream",
     "text": [
      "1 2 3 \n",
      "4 5 6 \n",
      "7 8 9 \n"
     ]
    }
   ],
   "source": [
    "\"\"\"\"\n",
    "Ejemplo 2: Recorrer una matriz (lista de listas)\n",
    "\n",
    "Descripción: Queremos imprimir todos los elementos de una matriz.\n",
    "El primer for recorre las filas, y el segundo recorre las columnas dentro de cada fila.\n",
    "\"\"\"\n",
    "matriz = [\n",
    "    [1, 2, 3],\n",
    "    [4, 5, 6],\n",
    "    [7, 8, 9]\n",
    "]\n",
    "\n",
    "for fila in matriz:\n",
    "    for elemento in fila:\n",
    "        print(elemento, end=\" \")\n",
    "    print()\n"
   ]
  },
  {
   "cell_type": "code",
   "execution_count": 108,
   "id": "97178d52",
   "metadata": {},
   "outputs": [
    {
     "name": "stdout",
     "output_type": "stream",
     "text": [
      "Ana Bea Cecilia \n",
      "David Eduardo Fernando \n",
      "Gabriela Héctor Isabel \n"
     ]
    }
   ],
   "source": [
    "nombres = [\n",
    "    [\"Ana\", \"Bea\", \"Cecilia\"],\n",
    "    [\"David\", \"Eduardo\", \"Fernando\"],\n",
    "    [\"Gabriela\", \"Héctor\", \"Isabel\"]\n",
    "]\n",
    "\n",
    "for fila in nombres: \n",
    "  for columna in fila:\n",
    "    print(f\"{columna}\", end=\" \")\n",
    "  print()"
   ]
  },
  {
   "cell_type": "code",
   "execution_count": 84,
   "id": "6296e50f",
   "metadata": {},
   "outputs": [
    {
     "name": "stdout",
     "output_type": "stream",
     "text": [
      "La marca : Toyota tiene un precio de :$10.000 respectivamente\n",
      "La marca : Toyota tiene un precio de :$25000 respectivamente\n",
      "La marca : Toyota tiene un precio de :38.000 respectivamente\n",
      "La marca : Ford tiene un precio de :$10.000 respectivamente\n",
      "La marca : Ford tiene un precio de :$25000 respectivamente\n",
      "La marca : Ford tiene un precio de :38.000 respectivamente\n",
      "La marca : Mazda tiene un precio de :$10.000 respectivamente\n",
      "La marca : Mazda tiene un precio de :$25000 respectivamente\n",
      "La marca : Mazda tiene un precio de :38.000 respectivamente\n"
     ]
    }
   ],
   "source": [
    "\"\"\"\n",
    "Ejemplo 3: Pares ordenados (combinaciones simples)\n",
    "\n",
    "Descripción: Queremos generar todos los pares posibles entre dos listas (como producto cartesiano).\n",
    "\"\"\"\n",
    "\n",
    "# nombres = [\"Ana\", \"Luis\"]\n",
    "# edades = [20, 30, 40]\n",
    "# for nombre in nombres:\n",
    "#     for edad in edades:\n",
    "#         print(f\"{nombre} tiene {edad} años\")\n",
    "\n",
    "marcas = [\"Toyota\", \"Ford\", \"Mazda\"]\n",
    "precios = [\"$10.000\", \"$25000\", \"38.000\"]\n",
    "\t\t\n",
    "\t\t\n",
    "for marca in marcas:  \n",
    "   for precio in precios:\n",
    "       print(f\"La marca : {marca} tiene un precio de :{precio} respectivamente\")"
   ]
  },
  {
   "cell_type": "code",
   "execution_count": 5,
   "id": "969ac071",
   "metadata": {},
   "outputs": [
    {
     "name": "stdout",
     "output_type": "stream",
     "text": [
      "La suma de los numeros pares es: 2550\n"
     ]
    }
   ],
   "source": [
    "\n",
    "num = 0 \n",
    "sum = 0\n",
    "while num <= 100:\n",
    "    if num % 2 == 0:\n",
    "        sum += num \n",
    "    num += 1\n",
    "print(f\"La suma de los numeros pares es: {sum}\")"
   ]
  },
  {
   "cell_type": "code",
   "execution_count": null,
   "id": "7b924a4c",
   "metadata": {},
   "outputs": [],
   "source": [
    "# hacer un codigo que pida al usuario cuantos numeros quiero ingresar y luego leer todos los numeros y realizar una media aritmética\n",
    "\n",
    "cantidad =  int(input(\"¿Cuántos números deseas ingresar? \"))\n",
    "suma = 0\n",
    "for i in range(cantidad):\n",
    "    numero = float(input(f\"Ingresa el numero {i+1}:\"))\n",
    "    suma += numero\n",
    "media = suma / cantidad\n",
    "print(f\"La media aritmética es: {media}\")"
   ]
  },
  {
   "cell_type": "code",
   "execution_count": null,
   "id": "b7d2277f",
   "metadata": {},
   "outputs": [],
   "source": [
    "numeros = [1, 3, 6, 9]\n",
    "\n",
    "while(True):\n",
    "  numero = int(input(\"Ingrese un numero entre 0 y 9 : \"))\n",
    "  if numero < 0 or numero > 9:\n",
    "    print(\"El rango no es correcto\")\n",
    "  else:\n",
    "    print(f\"El {numero} esta en el rango correcto\")\n",
    "    if numero in numeros:\n",
    "      print(f\"el numero {numero} esta en la lista: {numeros} en la posicion {numeros.index(numero)}\")\n",
    "      break\n",
    "    else:\n",
    "      print(f\"El numero {numero} no se encuentra en la lista\")\n",
    "      break"
   ]
  }
 ],
 "metadata": {
  "kernelspec": {
   "display_name": "venv",
   "language": "python",
   "name": "python3"
  },
  "language_info": {
   "codemirror_mode": {
    "name": "ipython",
    "version": 3
   },
   "file_extension": ".py",
   "mimetype": "text/x-python",
   "name": "python",
   "nbconvert_exporter": "python",
   "pygments_lexer": "ipython3",
   "version": "3.12.6"
  }
 },
 "nbformat": 4,
 "nbformat_minor": 5
}
