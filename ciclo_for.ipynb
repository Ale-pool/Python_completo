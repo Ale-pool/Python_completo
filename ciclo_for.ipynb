{
  "nbformat": 4,
  "nbformat_minor": 0,
  "metadata": {
    "colab": {
      "provenance": [],
      "authorship_tag": "ABX9TyP/9LyRuSKitRgKlsJQRw77",
      "include_colab_link": true
    },
    "kernelspec": {
      "name": "python3",
      "display_name": "Python 3"
    },
    "language_info": {
      "name": "python"
    }
  },
  "cells": [
    {
      "cell_type": "markdown",
      "metadata": {
        "id": "view-in-github",
        "colab_type": "text"
      },
      "source": [
        "<a href=\"https://colab.research.google.com/github/Ale-pool/Python_completo/blob/TRUNK/ciclo_for.ipynb\" target=\"_parent\"><img src=\"https://colab.research.google.com/assets/colab-badge.svg\" alt=\"Open In Colab\"/></a>"
      ]
    },
    {
      "cell_type": "markdown",
      "source": [
        "#El ciclo for en Python\n",
        "👉 En Python, el for se usa para iterar sobre una secuencia (lista, cadena, tupla, diccionario, conjunto, rango, archivo, generador, etc.).\n",
        "No es como en otros lenguajes (C, Java) donde el for es un contador manual. Aquí es un iterador elegante y potente."
      ],
      "metadata": {
        "id": "A_BT3ujAu_L9"
      }
    },
    {
      "cell_type": "code",
      "source": [
        "# sintaxis\n",
        "\"\"\"\n",
        "for variable in secuencia:+\n",
        "    # bloque de codigo\n",
        "\"\"\"\n",
        "\n",
        "numeros = [1,2,3,4,5,6,7,8,9,10]\n",
        "indice = 0\n",
        "\n",
        "for numero in numeros:\n",
        "    print(numero)\n"
      ],
      "metadata": {
        "colab": {
          "base_uri": "https://localhost:8080/"
        },
        "id": "cyTu8fbMvEdZ",
        "outputId": "3e9c3720-2e87-4e42-8ca4-de8d1666e202"
      },
      "execution_count": 1,
      "outputs": [
        {
          "output_type": "stream",
          "name": "stdout",
          "text": [
            "1\n",
            "2\n",
            "3\n",
            "4\n",
            "5\n",
            "6\n",
            "7\n",
            "8\n",
            "9\n",
            "10\n"
          ]
        }
      ]
    },
    {
      "cell_type": "code",
      "source": [
        "# MODIFICAR ITEMS DE LA LISTA AL VUELO\n",
        "# para asignar un nuevo valor a los demas elemntos de una lista mientras la recorremos, podriamos intentar asignar al numero el nuevo valor\n",
        "\n",
        "for numero in numeros:\n",
        "  numero *= 10\n",
        "\n",
        "# sin embargo no funciona la mejor manera es hacerlo de esta manera, es decir haciendo referencia al indice en la lista en lugar de una variable\n",
        "\n",
        "indice = 0\n",
        "numeros =  [1,2,3,4,5,6,7,8,9,10]\n",
        "for numero in numeros:\n",
        "  numeros[indice] *=10\n",
        "  indice+=1\n",
        "numeros\n",
        "\n",
        "\n"
      ],
      "metadata": {
        "colab": {
          "base_uri": "https://localhost:8080/"
        },
        "id": "MfRN8itLvsMW",
        "outputId": "d3aba418-f1b4-4d6d-eafb-106a6725c737"
      },
      "execution_count": 5,
      "outputs": [
        {
          "output_type": "execute_result",
          "data": {
            "text/plain": [
              "[10, 20, 30, 40, 50, 60, 70, 80, 90, 100]"
            ]
          },
          "metadata": {},
          "execution_count": 5
        }
      ]
    },
    {
      "cell_type": "code",
      "source": [
        "# podemos utilizar la función enumerate() para conseguir el indice y el valor en cada iteración facilmente:\n",
        "\n",
        "numeros =  [1,2,3,4,5,6,7,8,9,10]\n",
        "for indice, numero in enumerate(numeros):\n",
        "  numeros[indice] *= 10\n",
        "numeros"
      ],
      "metadata": {
        "colab": {
          "base_uri": "https://localhost:8080/"
        },
        "id": "I_DzC-FCwNcB",
        "outputId": "7d60560f-dc2c-4ceb-cf8a-25e6483a8170"
      },
      "execution_count": 7,
      "outputs": [
        {
          "output_type": "execute_result",
          "data": {
            "text/plain": [
              "[10, 20, 30, 40, 50, 60, 70, 80, 90, 100]"
            ]
          },
          "metadata": {},
          "execution_count": 7
        }
      ]
    },
    {
      "cell_type": "code",
      "source": [
        "# for para cadenas\n",
        "\n",
        "cadena = \"Hola mundo\"\n",
        "for caracter in cadena:\n",
        "  print(caracter)"
      ],
      "metadata": {
        "colab": {
          "base_uri": "https://localhost:8080/"
        },
        "id": "4Ldhq5wcyP37",
        "outputId": "ac717a88-ecc6-4714-863c-750b55b39ea6"
      },
      "execution_count": 8,
      "outputs": [
        {
          "output_type": "stream",
          "name": "stdout",
          "text": [
            "H\n",
            "o\n",
            "l\n",
            "a\n",
            " \n",
            "m\n",
            "u\n",
            "n\n",
            "d\n",
            "o\n"
          ]
        }
      ]
    },
    {
      "cell_type": "code",
      "source": [
        "# La función Range()\n",
        "# la función range sirve para generar una lista de numeros que podemos recorrer facilmente, pero no ocupa memoria porque se interpreta bajo la marcha\n",
        "\n",
        "\n",
        "for i in range(1, 10):\n",
        "  print(i)\n",
        "\n",
        "# range(20)"
      ],
      "metadata": {
        "colab": {
          "base_uri": "https://localhost:8080/"
        },
        "id": "Lh9bnhV3yYce",
        "outputId": "e5fdbdaa-ee04-4295-d81b-4f0a303d3247"
      },
      "execution_count": 7,
      "outputs": [
        {
          "output_type": "stream",
          "name": "stdout",
          "text": [
            "1\n",
            "2\n",
            "3\n",
            "4\n",
            "5\n",
            "6\n",
            "7\n",
            "8\n",
            "9\n"
          ]
        }
      ]
    },
    {
      "cell_type": "code",
      "source": [
        "for i in [0,1,2,4,5,7,7,3]:\n",
        "  print(i)\n",
        "\n",
        "\n",
        "# si queremos conseguir la lista literal podemos transformar el range en una lista\n",
        "\n",
        "list(range(0,15))\n",
        "\n",
        "# entonces recordemos que si queremos un rango de numeros que podamos recorrer facilmente lo hacemos con la función range()\n",
        "\n"
      ],
      "metadata": {
        "id": "QCm6kjqaZzgt"
      },
      "execution_count": null,
      "outputs": []
    }
  ]
}