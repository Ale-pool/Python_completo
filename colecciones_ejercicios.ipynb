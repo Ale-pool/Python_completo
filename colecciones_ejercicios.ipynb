{
  "nbformat": 4,
  "nbformat_minor": 0,
  "metadata": {
    "colab": {
      "provenance": []
    },
    "kernelspec": {
      "name": "python3",
      "display_name": "Python 3"
    },
    "language_info": {
      "name": "python"
    }
  },
  "cells": [
    {
      "cell_type": "markdown",
      "source": [
        "En este notebook tendremos los ejercicios de la sección 6 del curso\n",
        "enfatizada en colecciónes"
      ],
      "metadata": {
        "id": "35JCNvsYTLRW"
      }
    },
    {
      "cell_type": "markdown",
      "source": [
        "**1) Realiza un programa que siga las siguientes instrucciones:**\n",
        "* Crea un conjunto llamado usuarios con los usuarios Marta, David, Elvira, Juan y Marcos\n",
        "* Crea un conjunto llamado administradores con los administradores Juan y Marta.\n",
        "* Borra al administrador Juan del conjunto de administradores.\n",
        "* Añade a Marcos como un nuevo administrador, pero no lo borres del conjunto de usuarios.\n",
        "* Muestra todos los usuarios por pantalla de forma dinámica, además debes indicar cada usuario es administrador o no.\n",
        "\n",
        "*Notas: Los conjuntos se pueden recorrer dinámicamente utilizando el bucle for de forma similar a una lista. También cuentan con un método llamado **.discard(elemento)** que sirve para borrar un elemento.*"
      ],
      "metadata": {
        "id": "BQgGq3iMT-Lc"
      }
    },
    {
      "cell_type": "code",
      "source": [
        "usuarios = {\"Marta\", \"David\", \"Elvira\", \"Juan\", \"Marcos\"}\n",
        "administradores = {\"Marta\", \"Juan\"}\n",
        "\n",
        "# borra a juan\n",
        "administradores.discard(\"Juan\")\n",
        "print(administradores)\n",
        "\n",
        "# añade a marcos como admin\n",
        "administradores.add(\"Marcos\")\n",
        "administradores\n",
        "\n",
        "print(\"BUENAS TARDES\")\n",
        "\n",
        "for usu in usuarios:\n",
        "  if usu in administradores:\n",
        "    print(f\"el Usuario {usu} es admin\")\n",
        "  else:\n",
        "    print(f\"usuario {usu} no es admin\")"
      ],
      "metadata": {
        "colab": {
          "base_uri": "https://localhost:8080/"
        },
        "id": "5VdA9OhTT9HA",
        "outputId": "ad25ef87-cf36-4b9e-b500-f2d0c161ee53"
      },
      "execution_count": 8,
      "outputs": [
        {
          "output_type": "stream",
          "name": "stdout",
          "text": [
            "{'Marta'}\n",
            "BUENAS TARDES\n",
            "usuario David no es admin\n",
            "usuario Elvira no es admin\n",
            "el Usuario Marcos es admin\n",
            "el Usuario Marta es admin\n",
            "usuario Juan no es admin\n"
          ]
        }
      ]
    },
    {
      "cell_type": "markdown",
      "source": [
        "**2) Durante el desarrollo de un pequeño videojuego se te encarga configurar y balancear cada clase de personaje jugable. Partiendo que la estadística base es 2, debes cumplir las siguientes condiciones: **\n",
        "* El caballero tiene el doble de vida y defensa que un guerrero.\n",
        "* El guerrero tiene el doble de ataque y alcance que un caballero.\n",
        "* El arquero tiene la misma vida y ataque que un guerrero, pero la mitad de su defensa y el doble de su alcance.\n",
        "* Muestra como quedan las propiedades de los tres personajes."
      ],
      "metadata": {
        "id": "5PzedJmxXZPO"
      }
    },
    {
      "cell_type": "code",
      "source": [
        "caballero = { 'vida':2, 'ataque':2, 'defensa': 2, 'alcance':2 }\n",
        "guerrero  = { 'vida':2, 'ataque':2, 'defensa': 2, 'alcance':2 }\n",
        "arquero   = { 'vida':2, 'ataque':2, 'defensa': 2, 'alcance':2 }\n",
        "\n",
        "\n",
        "# Completa el ejercicio aquí\n",
        "# caballero\n",
        "caballero['vida'] = guerrero['vida'] * 2\n",
        "caballero['defensa'] = guerrero['defensa'] * 2\n",
        "print(f\"Estadisticas del caballero: {caballero}\")\n",
        "# guerrero\n",
        "guerrero['ataque'] = caballero['ataque'] * 2\n",
        "guerrero['alcance'] = caballero['alcance'] * 2\n",
        "print(f\" Estadisticas del guerrero: {guerrero}\")\n",
        "# arquero\n",
        "arquero['vida'] = guerrero['vida']\n",
        "arquero['ataque'] = guerrero['ataque']\n",
        "arquero['defensa'] = guerrero['defensa'] / 2\n",
        "arquero['alcance'] = guerrero['alcance'] * 2\n",
        "print(f\" Estadisticas del arquero: {arquero}\")\n",
        "\n",
        "\n"
      ],
      "metadata": {
        "colab": {
          "base_uri": "https://localhost:8080/"
        },
        "id": "EOTpwpn7XaZy",
        "outputId": "b3ef8ba5-041a-4214-b892-c7b8086f98a2"
      },
      "execution_count": 18,
      "outputs": [
        {
          "output_type": "stream",
          "name": "stdout",
          "text": [
            "<class 'dict'>\n",
            "Estadisticas del caballero: {'vida': 4, 'ataque': 2, 'defensa': 4, 'alcance': 2}\n",
            " Estadisticas del guerrero: {'vida': 2, 'ataque': 4, 'defensa': 2, 'alcance': 4}\n",
            " Estadisticas del arquero: {'vida': 2, 'ataque': 4, 'defensa': 1.0, 'alcance': 8}\n"
          ]
        }
      ]
    },
    {
      "cell_type": "markdown",
      "source": [
        "**3) Durante la planificación de un proyecto se han acordado una lista de tareas. Para cada una de estas tareas se ha asignado un orden de prioridad (cuanto menor es el número de orden, más prioridad).**\n",
        "\n",
        "**¿Eres capaz de crear una estructura del tipo cola con todas las tareas ordenadas pero sin los números de orden?**\n",
        "\n",
        "Pista: Para ordenar automáticamente una lista es posible utilizar el método .sort()."
      ],
      "metadata": {
        "id": "NRfMCEYwcC-G"
      }
    },
    {
      "cell_type": "code",
      "source": [
        "tareas = [\n",
        "    [6, 'Distribución'],\n",
        "    [2, 'Diseño'],\n",
        "    [1, 'Concepción'],\n",
        "    [7, 'Mantenimiento'],\n",
        "    [4, 'Producción'],\n",
        "    [3, 'Planificación'],\n",
        "    [5, 'Pruebas']\n",
        "]\n",
        "\n",
        "print(\"==Tareas desordenadas==\")\n",
        "for tarea in tareas:\n",
        "    print(tarea[0], tarea[1])\n",
        "\n",
        "# Completa el ejercicio aquí\n",
        "\n",
        "from collections import deque\n",
        "\n",
        "tareas.sort()\n",
        "\n",
        "cola = deque()\n",
        "for tarea in tareas:\n",
        "    cola.append(tarea[1])\n",
        "\n",
        "print(\"\\n==Tareas ordenadas==\")\n",
        "for tarea in cola:\n",
        "    print(tarea)"
      ],
      "metadata": {
        "colab": {
          "base_uri": "https://localhost:8080/"
        },
        "id": "9GH8J0SocCEY",
        "outputId": "157637fe-e2ee-48fd-f84e-ec6de14be2ea"
      },
      "execution_count": 20,
      "outputs": [
        {
          "output_type": "stream",
          "name": "stdout",
          "text": [
            "==Tareas desordenadas==\n",
            "6 Distribución\n",
            "2 Diseño\n",
            "1 Concepción\n",
            "7 Mantenimiento\n",
            "4 Producción\n",
            "3 Planificación\n",
            "5 Pruebas\n",
            "\n",
            "==Tareas ordenadas==\n",
            "Concepción\n",
            "Diseño\n",
            "Planificación\n",
            "Producción\n",
            "Pruebas\n",
            "Distribución\n",
            "Mantenimiento\n"
          ]
        }
      ]
    }
  ]
}