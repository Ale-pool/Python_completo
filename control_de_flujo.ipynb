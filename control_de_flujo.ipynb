{
  "nbformat": 4,
  "nbformat_minor": 0,
  "metadata": {
    "colab": {
      "provenance": [],
      "authorship_tag": "ABX9TyOe5Ok/Ue56kerUijVB4bt+",
      "include_colab_link": true
    },
    "kernelspec": {
      "name": "python3",
      "display_name": "Python 3"
    },
    "language_info": {
      "name": "python"
    }
  },
  "cells": [
    {
      "cell_type": "markdown",
      "metadata": {
        "id": "view-in-github",
        "colab_type": "text"
      },
      "source": [
        "<a href=\"https://colab.research.google.com/github/Ale-pool/Python_completo/blob/TRUNK/control_de_flujo.ipynb\" target=\"_parent\"><img src=\"https://colab.research.google.com/assets/colab-badge.svg\" alt=\"Open In Colab\"/></a>"
      ]
    },
    {
      "cell_type": "markdown",
      "source": [
        "# Condiciones\n",
        "## Sentencia If (Si)\n",
        "Permite dividir el flujo de un programa en diferentes caminos. El if se ejecuta siempre que la expresión que comprueba devuelva True"
      ],
      "metadata": {
        "id": "RG-K0XfPUZgz"
      }
    },
    {
      "cell_type": "code",
      "source": [
        "if True:\n",
        "  print(\"Se cumple la condición\")"
      ],
      "metadata": {
        "colab": {
          "base_uri": "https://localhost:8080/"
        },
        "id": "bBQUqoaCSJP6",
        "outputId": "419f45e9-988b-4946-e6a1-808e8d9af819"
      },
      "execution_count": 41,
      "outputs": [
        {
          "output_type": "stream",
          "name": "stdout",
          "text": [
            "Se cumple la condición\n"
          ]
        }
      ]
    },
    {
      "cell_type": "code",
      "source": [
        "a = 5\n",
        "if a == 2:\n",
        "    print(\"a vale 2\")\n",
        "elif a == 5:\n",
        "    print(\"a vale 5\")"
      ],
      "metadata": {
        "colab": {
          "base_uri": "https://localhost:8080/"
        },
        "id": "D0COJrx7SUQd",
        "outputId": "ee21126d-6adc-4556-e239-3947f8669765"
      },
      "execution_count": 42,
      "outputs": [
        {
          "output_type": "stream",
          "name": "stdout",
          "text": [
            "a vale 5\n"
          ]
        }
      ]
    },
    {
      "cell_type": "code",
      "source": [
        "# anidar if dentro de if\n",
        "\n",
        "a = 5\n",
        "b = 10\n",
        "if a == 5:\n",
        "    print(\"a vale\",a)\n",
        "    if b == 10:\n",
        "        print(\"y b vale\",b)"
      ],
      "metadata": {
        "colab": {
          "base_uri": "https://localhost:8080/"
        },
        "id": "WKfYqgZmSfXD",
        "outputId": "68b1e514-d8ec-4609-838a-cb74ddc2585b"
      },
      "execution_count": 43,
      "outputs": [
        {
          "output_type": "stream",
          "name": "stdout",
          "text": [
            "a vale 5\n",
            "y b vale 10\n"
          ]
        }
      ]
    },
    {
      "cell_type": "code",
      "source": [
        "# siempre se utiliza un elif cuando queremos trabajar con multiple condiciones, siempre que las anteriores no se ejecuten\n",
        "\n",
        "comando = \"OTRA COSA\"\n",
        "if comando == \"ENTRAR\":\n",
        "    print(\"Bienvenido al sistema\")\n",
        "elif comando == \"SALUDAR\":\n",
        "    print(\"Hola, espero que te lo estés pasando bien aprendiendo Python\")\n",
        "elif comando == \"SALIR\":\n",
        "    print(\"Saliendo del sistema...\")\n",
        "else:\n",
        "    print(\"Este comando no se reconoce\")"
      ],
      "metadata": {
        "colab": {
          "base_uri": "https://localhost:8080/"
        },
        "id": "ucuOXd7gSz_E",
        "outputId": "dd23b29b-4392-44c4-b481-af78a55ef5b5"
      },
      "execution_count": 45,
      "outputs": [
        {
          "output_type": "stream",
          "name": "stdout",
          "text": [
            "Este comando no se reconoce\n"
          ]
        }
      ]
    },
    {
      "cell_type": "code",
      "source": [
        "\n",
        "comando = \"OTRA COSA\"\n",
        "match comando:\n",
        " case \"ENTRAR\":\n",
        "    print(\"Bienvenido al sistema\")\n",
        " case \"SALUDAR\":\n",
        "    print(\"Hola, espero que te lo estés pasando bien aprendiendo Python\")\n",
        " case \"SALIR\":\n",
        "    print(\"Saliendo del sistema...\")\n",
        " case _:\n",
        "    print(\"Este comando no se reconoce\")"
      ],
      "metadata": {
        "colab": {
          "base_uri": "https://localhost:8080/"
        },
        "id": "lS5v0uxYTFTV",
        "outputId": "7fb98f22-fa7f-4c4f-cedb-cc37252039c3"
      },
      "execution_count": 46,
      "outputs": [
        {
          "output_type": "stream",
          "name": "stdout",
          "text": [
            "Este comando no se reconoce\n"
          ]
        }
      ]
    },
    {
      "cell_type": "code",
      "source": [
        "#### Es posible simular el funcionamiento de elif con if utilizando expresiones condicionales\n",
        "\n",
        "nota = float(input(\"Introduce una nota: \"))\n",
        "if nota >= 9:\n",
        "    print(\"Sobresaliente\")\n",
        "if nota >= 7 and nota < 9:\n",
        "    print(\"Notable\")\n",
        "if nota >= 6 and nota < 7:\n",
        "    print(\"Bien\")\n",
        "if nota >= 5 and nota < 6:\n",
        "    print(\"Suficiente\")\n",
        "if nota < 5:\n",
        "    print(\"Insuficiente\")\n"
      ],
      "metadata": {
        "colab": {
          "base_uri": "https://localhost:8080/"
        },
        "id": "zR-BExlsTvfQ",
        "outputId": "3f6948f1-854f-4835-a2d5-aa9af8fbd6af"
      },
      "execution_count": 48,
      "outputs": [
        {
          "output_type": "stream",
          "name": "stdout",
          "text": [
            "Introduce una nota: 5\n",
            "Suficiente\n"
          ]
        }
      ]
    },
    {
      "cell_type": "code",
      "source": [
        "\"\"\"\n",
        "Vamos hablar de condicionales:\n",
        "son la base logica de cualquier programa, hay que conocer todas sus variaciones, atajos y buenas practicas\n",
        "un condicional es una condición que me da un valor ya sea TRUE or FALSE, y mediante la respuesta de esto, tiene\n",
        "una consecuencia, un paso a seguir\n",
        "\"\"\"\n",
        "# GUIA COMPLETA - EXTRUCTURA BASICA\n",
        "\n",
        "x = 50\n",
        "\n",
        "if x < 30:\n",
        "  print(\"es menor al valor\")\n",
        "elif x > 30 and x <= 45:\n",
        "  print(\"este es el rango correcto\")\n",
        "else:\n",
        "  print(f\"tiene un valor mucho mas alto que 45 y es {x}\")\n",
        "\n",
        "# if --> primera condición+\n",
        "# elif --> condiciones adicionales\n",
        "# else --> se ejecuta si ninguna condicion previa se ejecuta\n",
        "\n",
        "\n",
        "\n",
        "\n"
      ],
      "metadata": {
        "colab": {
          "base_uri": "https://localhost:8080/"
        },
        "id": "3_8m7stwUaKC",
        "outputId": "4be1d093-21f3-4ba7-d0b6-14cf250e7327"
      },
      "execution_count": 9,
      "outputs": [
        {
          "output_type": "stream",
          "name": "stdout",
          "text": [
            "tiene un valor mucho mas alto que 45 y es 50\n"
          ]
        }
      ]
    },
    {
      "cell_type": "code",
      "source": [
        "# condicional simple\n",
        "edad = 20\n",
        "if edad >= 18:\n",
        "    print(\"Mayor de edad\")"
      ],
      "metadata": {
        "colab": {
          "base_uri": "https://localhost:8080/"
        },
        "id": "noOEAjBGW5jV",
        "outputId": "15048d38-85d5-408b-a523-27360ff5189f"
      },
      "execution_count": 10,
      "outputs": [
        {
          "output_type": "stream",
          "name": "stdout",
          "text": [
            "Mayor de edad\n"
          ]
        }
      ]
    },
    {
      "cell_type": "code",
      "source": [
        "# condicional anidado\n",
        "x = 41\n",
        "if x > 0:\n",
        "    if x % 2 == 0:\n",
        "        print(\"Número positivo par\")\n",
        "    else:\n",
        "        print(\"Número positivo impar\")\n"
      ],
      "metadata": {
        "colab": {
          "base_uri": "https://localhost:8080/"
        },
        "id": "jK1et8-qW79q",
        "outputId": "edca28b7-104e-4b04-f63d-54a150937f03"
      },
      "execution_count": 14,
      "outputs": [
        {
          "output_type": "stream",
          "name": "stdout",
          "text": [
            "Número positivo impar\n"
          ]
        }
      ]
    },
    {
      "cell_type": "code",
      "source": [
        "# operadores logicos con condicionales\n",
        "\n",
        "edad = 24\n",
        "\n",
        "if edad > 18 and edad < 30:\n",
        "  print(\"Joven adulto\")\n",
        "elif edad < 18 or edad > 65:\n",
        "  print(\"No esta en rango laboral\")\n",
        "else:\n",
        "  print(\"el rango de edad es incorrecto\")\n",
        "\n",
        "\n",
        "if not edad == 20:\n",
        "  print(\"Edad distita de 20\")"
      ],
      "metadata": {
        "colab": {
          "base_uri": "https://localhost:8080/"
        },
        "id": "nY32iIsEXP8a",
        "outputId": "562fac99-6307-40ee-c5cb-3357a34bf6d8"
      },
      "execution_count": 26,
      "outputs": [
        {
          "output_type": "stream",
          "name": "stdout",
          "text": [
            "Joven adulto\n",
            "Edad distita de 20\n"
          ]
        }
      ]
    },
    {
      "cell_type": "code",
      "source": [
        "# operadores de pertenencia\n",
        "\n",
        "fruta = \"Pera\"\n",
        "\n",
        "if fruta in [\"Manzana\", \"Pera\", \"Uva\"]:\n",
        "  print(\"Fruta permitida\")\n",
        "else:\n",
        "  print(\"fruta denegada\")\n",
        "\n",
        "\n"
      ],
      "metadata": {
        "colab": {
          "base_uri": "https://localhost:8080/"
        },
        "id": "PE8XVER-Yg_f",
        "outputId": "935e712b-36fd-4563-c232-ee40bc131bf3"
      },
      "execution_count": 32,
      "outputs": [
        {
          "output_type": "stream",
          "name": "stdout",
          "text": [
            "Fruta permitida\n"
          ]
        }
      ]
    },
    {
      "cell_type": "code",
      "source": [
        "# Condicional en una sola línea (ternario)\n",
        "edad = 17\n",
        "mensaje = \"Mayor de edad\" if edad >= 18 else \"Menor de edad\"\n",
        "print(mensaje)\n",
        "\n"
      ],
      "metadata": {
        "colab": {
          "base_uri": "https://localhost:8080/"
        },
        "id": "gcvQRfWnZw47",
        "outputId": "67e6d932-4946-42c7-f541-7644d531b539"
      },
      "execution_count": 33,
      "outputs": [
        {
          "output_type": "stream",
          "name": "stdout",
          "text": [
            "Menor de edad\n"
          ]
        }
      ]
    },
    {
      "cell_type": "code",
      "source": [
        "# vamos a ver una extrucutura nueva en py para las condiciones esta se conoce como match- case\n",
        "\n",
        "estado = \"inactivo\"\n",
        "\n",
        "match estado:\n",
        "    case \"activo\":\n",
        "        print(\"El usuario está en línea. 🟢\")\n",
        "    case \"ausente\":\n",
        "        print(\"El usuario está conectado, pero inactivo. 🟡\")\n",
        "    case \"inactivo\":\n",
        "        print(\"El usuario ha cerrado sesión. 🔴\")\n",
        "    case _: # El guion bajo (_) actúa como el 'default' o 'catch-all'.\n",
        "        print(\"Estado desconocido.\")"
      ],
      "metadata": {
        "colab": {
          "base_uri": "https://localhost:8080/"
        },
        "id": "TOxrsSdNchyZ",
        "outputId": "369d9897-8650-49f9-8ce8-88312f4af355"
      },
      "execution_count": 34,
      "outputs": [
        {
          "output_type": "stream",
          "name": "stdout",
          "text": [
            "El usuario ha cerrado sesión. 🔴\n"
          ]
        }
      ]
    },
    {
      "cell_type": "code",
      "source": [
        "# como el match- case es similar al switch, entonces tenemos esta estructura.\n",
        "# es un switch mejorado, ideal de cuando se tiene que evaluar muchos casos en relación a una sola variable\n",
        "\n",
        "\n",
        "temperatura = 50# pa80rtimos de una variable\n",
        "\n",
        "# en relación a la variable vamos a tener una secuencia de condiciones\n",
        "match temperatura:\n",
        "    case 20:\n",
        "        print(\"La temperatura es baja\")\n",
        "    case 50:\n",
        "        print(\"La temperatura es media\")\n",
        "    case 80:\n",
        "        print(\"La temperatura es Alta\")\n",
        "    case _:\n",
        "        print(\"Temperatura no evaluada\")"
      ],
      "metadata": {
        "colab": {
          "base_uri": "https://localhost:8080/"
        },
        "id": "CDdS1F00DSeb",
        "outputId": "92b49557-8c88-4872-d571-e722c98bcae0"
      },
      "execution_count": 9,
      "outputs": [
        {
          "output_type": "stream",
          "name": "stdout",
          "text": [
            "La temperatura es media\n"
          ]
        }
      ]
    },
    {
      "cell_type": "code",
      "source": [
        "opcion = 4\n",
        "\n",
        "match opcion:\n",
        "  case 1:\n",
        "    print(\"Elegiste la opcion 1: Crear usuario\")\n",
        "  case 2:\n",
        "    print(\"Elegiste la opcion 2: Eliminar usuario\")\n",
        "  case 3:\n",
        "    print(\"Elegiste la opcion 3: Actualizar usuario\")\n",
        "  case 4:\n",
        "    print(\"Elegiste la opcion 4: Comenzar el juego\")\n",
        "  case _:\n",
        "    print(\"opcion no valida\")\n",
        "\n",
        "\n",
        "\n",
        "# clasificacion segun el tipo de dato\n",
        "\n",
        "dato = \"hola\"\n",
        "\n",
        "match dato:\n",
        "  case int():\n",
        "    print(\"Es un numero entero\")\n",
        "  case str():\n",
        "    print(\"Es una cadena de texto\")\n",
        "  case list():\n",
        "    print(\"Es una lista\")\n",
        "  case _:\n",
        "    print(\"Tipo desconocido\")"
      ],
      "metadata": {
        "colab": {
          "base_uri": "https://localhost:8080/"
        },
        "id": "coSiWJ6KFx9r",
        "outputId": "7da464a7-112b-480b-bec2-5403639e2e09"
      },
      "execution_count": 16,
      "outputs": [
        {
          "output_type": "stream",
          "name": "stdout",
          "text": [
            "Elegiste la opcion 4: Comenzar el juego\n",
            "Es una cadena de texto\n"
          ]
        }
      ]
    },
    {
      "cell_type": "code",
      "source": [
        "# patrones en tuplas\n",
        "coordenada = (5, 0)\n",
        "\n",
        "match coordenada:\n",
        "    case (0, y):\n",
        "        print(f\"Está sobre el eje Y en {y}\")\n",
        "    case (x, 0):\n",
        "        print(f\"Está sobre el eje X en {x}\")\n",
        "    case (x, y):\n",
        "        print(f\"Punto general en ({x}, {y})\")\n"
      ],
      "metadata": {
        "colab": {
          "base_uri": "https://localhost:8080/"
        },
        "id": "Md0yYm8zHLEv",
        "outputId": "255268cb-7404-4c2f-c9cd-0199f8e93b33"
      },
      "execution_count": 25,
      "outputs": [
        {
          "output_type": "stream",
          "name": "stdout",
          "text": [
            "Está sobre el eje X en 5\n"
          ]
        }
      ]
    },
    {
      "cell_type": "code",
      "source": [
        "dia = \"lunes\"\n",
        "\n",
        "match dia:\n",
        "    case \"lunes\":\n",
        "        print(\"Inicio de semana\")\n",
        "    case \"viernes\":\n",
        "        print(\"Fin de semana cerca\")\n",
        "    case _:\n",
        "        print(\"Otro día\")\n"
      ],
      "metadata": {
        "colab": {
          "base_uri": "https://localhost:8080/"
        },
        "id": "gcCF5iuPcuPq",
        "outputId": "08a53c17-020f-43bb-e75f-c6128148307c"
      },
      "execution_count": 35,
      "outputs": [
        {
          "output_type": "stream",
          "name": "stdout",
          "text": [
            "Inicio de semana\n"
          ]
        }
      ]
    },
    {
      "cell_type": "code",
      "source": [
        "# all() y any() en condicionales avanzados\n",
        "\n",
        "x, y, z = 10, -20, 30\n",
        "\n",
        "if all([x > 0, y > 0, z > 0]):\n",
        "    print(\"Todos son positivos\")\n",
        "\n",
        "if any([x < 0, y < 0, z < 0]):\n",
        "    print(\"Al menos uno es negativo\")\n",
        "\n"
      ],
      "metadata": {
        "colab": {
          "base_uri": "https://localhost:8080/"
        },
        "id": "woPHnNmQdLra",
        "outputId": "c78fda00-2d8c-4056-fb80-6771e5a7b8b9"
      },
      "execution_count": 39,
      "outputs": [
        {
          "output_type": "stream",
          "name": "stdout",
          "text": [
            "Al menos uno es negativo\n"
          ]
        }
      ]
    },
    {
      "cell_type": "code",
      "source": [
        "# tengamos en cuenta la siguiente extructura\n",
        "# all(iterable) -> True si todas las condiciones son verdaderas\n",
        "# any(iterable) -> True si alguna de las condiciones son verdaderas\n",
        "\n",
        "\n",
        "# all()\n",
        "\n",
        "nombre = \"Alex\"\n",
        "edad = 25\n",
        "correo = \"alex@email.co\"\n",
        "\n",
        "# vamos a verificar que todos los campos tengan valor\n",
        "if any([nombre, edad, correo]):\n",
        "  print(\"Formulario valido\")\n",
        "else:\n",
        "  print(\"Faltan campos por completar\")\n",
        "\n",
        "\n",
        "\n",
        "# any()\n",
        "rol = \"admin\"\n",
        "permisos = [\"leer\", \"escribir\"]\n",
        "\n",
        "if any([rol == \"admin\", \"escribir\" in permisos]):\n",
        "  print(\"Acceso concedido\")\n",
        "else:\n",
        "  print(\"Acceso denegado\")\n",
        "\n",
        "\n",
        "\n",
        "\n"
      ],
      "metadata": {
        "colab": {
          "base_uri": "https://localhost:8080/"
        },
        "id": "aKyRQjbPHzWy",
        "outputId": "4476b70b-0e9f-4214-e370-1baf5137055f"
      },
      "execution_count": 32,
      "outputs": [
        {
          "output_type": "stream",
          "name": "stdout",
          "text": [
            "Formulario valido\n",
            "Acceso concedido\n"
          ]
        }
      ]
    },
    {
      "cell_type": "code",
      "source": [
        "# condiciones matematicas\n",
        "nums = [10, 20, 30, 40]\n",
        "\n",
        "# Todos positivos\n",
        "print(all([n > 0 for n in nums]))\n",
        "\n",
        "# Alguno mayor a 50\n",
        "print(any([n > 50 for n in nums]))\n"
      ],
      "metadata": {
        "colab": {
          "base_uri": "https://localhost:8080/"
        },
        "id": "0u15BKLQJwHn",
        "outputId": "329ff8d4-b207-460e-e5cb-547011cf6892"
      },
      "execution_count": 33,
      "outputs": [
        {
          "output_type": "stream",
          "name": "stdout",
          "text": [
            "True\n",
            "False\n"
          ]
        }
      ]
    },
    {
      "cell_type": "code",
      "source": [
        "\n",
        "\n",
        "jugador = \"Luis\"\n",
        "tipo = [\"Pro\", \"noob\", \"hacker\"]\n",
        "\n",
        "if any([jugador == \"Alex\", \"maquina\" in tipo]):\n",
        "    print(\"Este si es el mejor jugador\")\n",
        "elif all([jugador == \"Luis\",\"noob\" in tipo]):\n",
        "    print(\"Este si es un noob\")\n",
        "else:\n",
        "  print(\"Estamos frente a un hacker\")\n",
        "\n"
      ],
      "metadata": {
        "colab": {
          "base_uri": "https://localhost:8080/"
        },
        "id": "VSM-1iegJ8F1",
        "outputId": "6b1e7acf-1e99-45b7-b1b2-7a0a9826d6d7"
      },
      "execution_count": 40,
      "outputs": [
        {
          "output_type": "stream",
          "name": "stdout",
          "text": [
            "Este si es un noob\n"
          ]
        }
      ]
    },
    {
      "cell_type": "markdown",
      "source": [
        "### PASS\n",
        "\n",
        "¿Para qué sirve pass?\n",
        "\n",
        "Placeholder: Cuando planeas escribir código después pero necesitas que la estructura sea válida\n",
        "Evitar errores de sintaxis: Python requiere que los bloques de código tengan al menos una declaración\n",
        "Desarrollo incremental: Te permite crear la estructura de tu programa antes de implementar los detalles"
      ],
      "metadata": {
        "id": "fDxKGU7EVF1U"
      }
    },
    {
      "cell_type": "code",
      "source": [
        "# por ultimo tenemos la sentencia pass que me permit finalizar un bloque, se puede utilizar en un bloque vacio\n",
        "\n",
        "edad = 15\n",
        "\n",
        "if edad >= 18:\n",
        "  print(\"Eres mayor de edad\")\n",
        "else:\n",
        "  pass\n",
        "\n",
        "\n"
      ],
      "metadata": {
        "id": "MgtMQbvWUCAH"
      },
      "execution_count": 52,
      "outputs": []
    },
    {
      "cell_type": "code",
      "source": [
        "\n",
        "# desarrollo incremental\n",
        "usuario = \"cliente\"\n",
        "\n",
        "if usuario == \"admin\":\n",
        "    pass  # TODO: Implementar funciones de administrador\n",
        "elif usuario == \"moderador\":\n",
        "    pass  # TODO: Implementar funciones de moderador\n",
        "else:\n",
        "    print(\"Usuario regular\")\n",
        "    # Esta parte sí está implementada"
      ],
      "metadata": {
        "colab": {
          "base_uri": "https://localhost:8080/"
        },
        "id": "to1cYE-4VKxL",
        "outputId": "e8d60ab5-f8b5-48d2-c75f-ebb21b05f1ec"
      },
      "execution_count": 55,
      "outputs": [
        {
          "output_type": "stream",
          "name": "stdout",
          "text": [
            "Usuario regular\n"
          ]
        }
      ]
    },
    {
      "cell_type": "code",
      "source": [
        "# multiples condiciones\n",
        "temperatura = 25\n",
        "lluvia = False\n",
        "\n",
        "if temperatura > 30:\n",
        "    print(\"Hace mucho calor\")\n",
        "elif temperatura < 10:\n",
        "    print(\"Hace mucho frío\")\n",
        "elif lluvia:\n",
        "    pass  # TODO: Decidir qué hacer cuando llueve\n",
        "else:\n",
        "    print(\"El clima está perfecto\")"
      ],
      "metadata": {
        "colab": {
          "base_uri": "https://localhost:8080/"
        },
        "id": "smlMA76lVUA5",
        "outputId": "49293310-397d-4aec-ee38-794fa83eff59"
      },
      "execution_count": 56,
      "outputs": [
        {
          "output_type": "stream",
          "name": "stdout",
          "text": [
            "El clima está perfecto\n"
          ]
        }
      ]
    }
  ]
}