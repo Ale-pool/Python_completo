{
  "nbformat": 4,
  "nbformat_minor": 0,
  "metadata": {
    "colab": {
      "provenance": [],
      "authorship_tag": "ABX9TyNCS7gp4CIAW1BLJ2/dlckI",
      "include_colab_link": true
    },
    "kernelspec": {
      "name": "python3",
      "display_name": "Python 3"
    },
    "language_info": {
      "name": "python"
    }
  },
  "cells": [
    {
      "cell_type": "markdown",
      "metadata": {
        "id": "view-in-github",
        "colab_type": "text"
      },
      "source": [
        "<a href=\"https://colab.research.google.com/github/Ale-pool/Python_completo/blob/TRUNK/ejercios_tema3.ipynb\" target=\"_parent\"><img src=\"https://colab.research.google.com/assets/colab-badge.svg\" alt=\"Open In Colab\"/></a>"
      ]
    },
    {
      "cell_type": "markdown",
      "source": [
        "\n",
        "**1) Realiza un programa que lea dos números por teclado y permita elegir entre 3 opciones en un menú:**\n",
        "* Mostrar una suma de los dos números\n",
        "* Mostrar una resta de los dos números (el primero menos el segundo)\n",
        "* Mostrar una multiplicación de los dos números\n",
        "* En caso de no introducir una opción válida, el programa informará de que no es correcta."
      ],
      "metadata": {
        "id": "iOU1GJAjhUTx"
      }
    },
    {
      "cell_type": "code",
      "source": [
        "nombre = input(\"Digite su Nombre Completo: \")\n",
        "print( f\"BIENVEDIO AL JUEGO DE LOS NUMEROS\\nCOMO ESTAS HOY {nombre}\")\n",
        "while(True):\n",
        "  print(\"\"\"Elija entre las siguientes Opciones\n",
        "          1.Suma de los numeros digitados\n",
        "          2. Multiplicación de los numeros digitado\n",
        "          3. Salir\n",
        "          \"\"\")\n",
        "  opciones = input()\n",
        "  if opciones == \"1\":\n",
        "     n1 = int(input(\"Introdusca el primer numero: \"))\n",
        "     n2 = int(input(\"Introduce el segundo numero\"))\n",
        "     print(f\"La suma entre {n1} y {n2} es : {n1+n2}\")\n",
        "  elif opciones == \"2\" :\n",
        "     n1 = int(input(\"Introdusca el primer numero: \"))\n",
        "     n2 = int(input(\"Introduce el segundo numero\"))\n",
        "     print(f\"La multiplicacion entre {n1} y {n2} es {n1 * n2}\")\n",
        "  elif opciones == \"3\" :\n",
        "    break\n",
        "  else:\n",
        "    print(\"La opcion no es correcta\")\n",
        "\n",
        "\n",
        "\n"
      ],
      "metadata": {
        "id": "jeRjbhJahWdp"
      },
      "execution_count": null,
      "outputs": []
    },
    {
      "cell_type": "markdown",
      "source": [
        "**2) Realiza un programa que lea un número impar por teclado. Si el usuario no introduce un número impar, debe repetise el proceso hasta que lo introduzca correctamente.**"
      ],
      "metadata": {
        "id": "T1yWhADlhXKJ"
      }
    },
    {
      "cell_type": "code",
      "source": [
        "\n",
        "num = int(input(\"Ingrese un numero impar: \"))\n",
        "\n",
        "while num % 2 == 0:  # mientras sea par se repite el proces\n",
        "    num = int(input(\"Incorrecto, ingrese un numero Impar: \"))\n",
        "    if num % 2 != 0:\n",
        "      print(\"Correcto, El nmumero Impar es \", num)\n",
        "\n"
      ],
      "metadata": {
        "id": "ImGzh7skhaQK",
        "colab": {
          "base_uri": "https://localhost:8080/"
        },
        "outputId": "9d753ef4-ad3c-43e5-ad93-56fb6f84d5ae"
      },
      "execution_count": null,
      "outputs": [
        {
          "output_type": "stream",
          "name": "stdout",
          "text": [
            "Ingrese un numero impar: 2\n",
            "Incorrecto, ingrese un numero Impar: 6\n",
            "Incorrecto, ingrese un numero Impar: 1\n",
            "Correcto, El nmumero Impar es  1\n"
          ]
        }
      ]
    },
    {
      "cell_type": "markdown",
      "source": [
        "**3) Realiza un programa que sume todos los números enteros pares desde el 0 hasta el 100:**\n",
        "\n",
        "*Sugerencia: Puedes utilizar la funciones sum() y range() para hacerlo más fácil. El tercer parámetro en la función range(inicio, fin, salto) indica un salto de números, pruébalo.*"
      ],
      "metadata": {
        "id": "pJ0JnpqMhd3h"
      }
    },
    {
      "cell_type": "code",
      "source": [
        "suma = 0\n",
        "suma = sum(range(0, 101, 2))\n",
        "print(suma)"
      ],
      "metadata": {
        "id": "egeY47J3heXP",
        "colab": {
          "base_uri": "https://localhost:8080/"
        },
        "outputId": "65c12da1-857f-4f21-aa48-5c820e2bd769"
      },
      "execution_count": null,
      "outputs": [
        {
          "output_type": "stream",
          "name": "stdout",
          "text": [
            "2550\n"
          ]
        }
      ]
    },
    {
      "cell_type": "code",
      "source": [
        "num = 0\n",
        "suma = 0\n",
        "\n",
        "while num <= 100:\n",
        "  if num %2 == 0:\n",
        "    suma += num\n",
        "  num += 1\n",
        "print(suma)"
      ],
      "metadata": {
        "colab": {
          "base_uri": "https://localhost:8080/"
        },
        "id": "sKY_PWzuZMwY",
        "outputId": "90c08ba2-58f3-4905-bcda-abc3b2a95d9c"
      },
      "execution_count": null,
      "outputs": [
        {
          "output_type": "stream",
          "name": "stdout",
          "text": [
            "2550\n"
          ]
        }
      ]
    },
    {
      "cell_type": "code",
      "source": [
        "n = int(input(\"Numeros a ingresar\"))\n",
        "for x in range(n):\n",
        "  print(x)"
      ],
      "metadata": {
        "colab": {
          "base_uri": "https://localhost:8080/"
        },
        "id": "DDAuOIbIM2RT",
        "outputId": "39c9081a-0eea-478e-c479-39cbe04b631d"
      },
      "execution_count": 2,
      "outputs": [
        {
          "output_type": "stream",
          "name": "stdout",
          "text": [
            "Numeros a ingresar6\n",
            "0\n",
            "1\n",
            "2\n",
            "3\n",
            "4\n",
            "5\n"
          ]
        }
      ]
    },
    {
      "cell_type": "markdown",
      "source": [
        "**4) Realiza un programa que pida al usuario cuantos números quiere introducir. Luego lee todos los números y realiza una media aritmética:**"
      ],
      "metadata": {
        "id": "i1hbPx1Qhg1w"
      }
    },
    {
      "cell_type": "code",
      "source": [
        "# Completa el ejercicio aquí\n",
        "suma = 0\n",
        "numeros = int(input(\"¿Cuántos números quieres introducir? \") )\n",
        "for x in range(numeros):\n",
        "    suma += float(input(\"Introduce un número: \") )\n",
        "print(\"Se han introducido\",numeros,\"números que en total han sumado\",suma,\"y la media es\",suma/numeros)"
      ],
      "metadata": {
        "id": "CjOLtNOihhP8",
        "colab": {
          "base_uri": "https://localhost:8080/"
        },
        "outputId": "f9b0ec1c-c80b-45a4-fda8-8e8f9576f488"
      },
      "execution_count": 19,
      "outputs": [
        {
          "output_type": "stream",
          "name": "stdout",
          "text": [
            "¿Cuántos números quieres introducir? 4\n",
            "Introduce un número: 10\n",
            "Introduce un número: 20\n",
            "Introduce un número: 30\n",
            "Introduce un número: 40\n",
            "Se han introducido 4 números que en total han sumado 100.0 y la media es 25.0\n"
          ]
        }
      ]
    },
    {
      "cell_type": "code",
      "source": [
        "# haz un codigo que te permita hacer la media de los numeros ingresados por el usuario sin definir el limite de numeros que puede utilizar\n",
        "# como no hay limite debemos trabajar con un ciclo infinito, ajustando a que salga en relación a una secuecia\n",
        "\n",
        "suma = 0  # me permitira sumar los numeros\n",
        "contador = 0 # me permitira contar cuantos numeros se ha introducido\n",
        "\n",
        "while True:\n",
        "  entrada = input(\"Introduce un numero o de caso contrario (Listo) para finalizar: \")\n",
        "\n",
        "  if entrada.lower() == \"listo\":\n",
        "    break\n",
        "\n",
        "  try:\n",
        "    numero = float(entrada)\n",
        "    suma += numero\n",
        "    contador += 1\n",
        "  except ValueError:\n",
        "    print(\"Entrada incorrecta, ingresar un nuevo valor\")\n",
        "\n",
        "\n",
        "if contador > 0:\n",
        "    media = suma / contador\n",
        "    print(f\"Se han introducido {contador} números que en total han sumado {suma} y la media es {media}\")\n",
        "else:\n",
        "    print(\"No se introdujeron números válidos.\")\n",
        "\n",
        "\n"
      ],
      "metadata": {
        "colab": {
          "base_uri": "https://localhost:8080/"
        },
        "id": "xg09TPKJQ_L6",
        "outputId": "9cc7a0ea-0aa2-4ea5-f298-72677b1b0c44"
      },
      "execution_count": 20,
      "outputs": [
        {
          "output_type": "stream",
          "name": "stdout",
          "text": [
            "Introduce un numero o de caso contrario (Listo) para finalizar: 10\n",
            "Introduce un numero o de caso contrario (Listo) para finalizar: 20\n",
            "Introduce un numero o de caso contrario (Listo) para finalizar: 30\n",
            "Introduce un numero o de caso contrario (Listo) para finalizar: 40\n",
            "Introduce un numero o de caso contrario (Listo) para finalizar: LISTO\n",
            "Se han introducido 4 números que en total han sumado 100.0 y la media es 25.0\n"
          ]
        }
      ]
    },
    {
      "cell_type": "markdown",
      "source": [
        "**5) Realiza un programa que pida al usuario un número entero del 0 al 9, y que mientras el número no sea correcto se repita el proceso. Luego debe comprobar si el número se encuentra en la lista de números y notificarlo:**\n",
        "\n",
        "*Consejo: La sintaxis \"valor in lista\" permite comprobar fácilmente si un valor se encuentra en una lista (devuelve True o False)*"
      ],
      "metadata": {
        "id": "8VTZVAAGhjo2"
      }
    },
    {
      "cell_type": "code",
      "source": [
        "\n",
        "lista = [1,3,6,9]\n",
        "\n",
        "while True:\n",
        "   num = int(input(\"Introduce un numero del 0 al 9: \"))\n",
        "   if num >= 0 and num <= 9:\n",
        "     break\n",
        "\n",
        "if num in lista:\n",
        "    print(f\"El numero {num} se encuentra en la lista {lista}\")\n",
        "else:\n",
        "    print(f\"El numero {num} no se encuntra en la lista {lista}\")\n",
        "\n",
        "\n",
        "\n"
      ],
      "metadata": {
        "id": "5-4jLRedhkFb",
        "colab": {
          "base_uri": "https://localhost:8080/"
        },
        "outputId": "ae4f4107-f174-4d7b-b9d1-09f793196096"
      },
      "execution_count": 43,
      "outputs": [
        {
          "output_type": "stream",
          "name": "stdout",
          "text": [
            "Introduce un numero del 0 al 9: 1\n",
            "El numero 1 se encuentra en la lista [1, 3, 6, 9]\n"
          ]
        }
      ]
    },
    {
      "cell_type": "markdown",
      "source": [
        "\n",
        "**6) Utilizando la función range() y la conversión a listas genera las siguientes listas dinámicamente:**\n",
        "* Todos los números del 0 al 10 [0, 1, 2, ..., 10]\n",
        "* Todos los números del -10 al 0 [-10, -9, -8, ..., 0]\n",
        "* Todos los números pares del 0 al 20 [0, 2, 4, ..., 20]\n",
        "* Todos los números impares entre -20 y 0 [-19, -17, -15, ..., -1]\n",
        "* Todos los números múltiples de 5 del 0 al 50 [0, 5, 10, ..., 50]\n",
        "\n",
        "*Pista: Utiliza el tercer parámetro de la función range(inicio, fin, salto).*"
      ],
      "metadata": {
        "id": "QqBsliv6hm7D"
      }
    },
    {
      "cell_type": "code",
      "source": [
        "# en python para verificar que cualquier numero es multiplo de algo se tiene en cuenta lo siguiente\n",
        "\"\"\"\n",
        "por ejemplo si tengo la variable {numero} y quiero verificar si esta es impar o par\n",
        "   if numero % 2 != 0 --> entonces es impar\n",
        "   if numero % 2 == 0 --> es par\n",
        "\n",
        "hay que tener en cuenta que el  ( % ) el operador modulo es importante,\n",
        "un numero es multiple de algo, si al dividirlo por si mismo el resto es 0\n",
        "ejemplo: para encontrar los multiplos del numero 5 evaluamos con el operador modulo\n",
        "\n",
        "if numero % 5 == 0 ->> es multiplo de 5\n",
        "\"\"\"\n",
        "\n",
        "# for x in range(0, 11):\n",
        "#   print(x)\n",
        "\n",
        "# for x in range(-10, 1):\n",
        "#   print(x)\n",
        "\n",
        "# for i in range(0, 21, 2):\n",
        "#   print(i)\n",
        "\n",
        "\n",
        "# for i in range(-20, 1):\n",
        "#     if i  % 2 != 0:\n",
        "#       print(i)\n",
        "\n",
        "lista = []\n",
        "\n",
        "for i in range(5, 51):\n",
        "  if i % 5 == 0:\n",
        "    print(i)\n",
        "    lista.append(i)\n",
        "print(lista)\n",
        "\n",
        "\n",
        "\n"
      ],
      "metadata": {
        "id": "Un2yVD2PhnTC",
        "colab": {
          "base_uri": "https://localhost:8080/"
        },
        "outputId": "3a84f549-d608-4e71-aeed-5ea20748200a"
      },
      "execution_count": 56,
      "outputs": [
        {
          "output_type": "stream",
          "name": "stdout",
          "text": [
            "5\n",
            "10\n",
            "15\n",
            "20\n",
            "25\n",
            "30\n",
            "35\n",
            "40\n",
            "45\n",
            "50\n",
            "[5, 10, 15, 20, 25, 30, 35, 40, 45, 50]\n"
          ]
        }
      ]
    },
    {
      "cell_type": "markdown",
      "source": [
        "**7) Dadas dos listas, debes generar una tercera con todos los elementos que se repitan en ellas, pero no debe repetise ningún elemento en la nueva lista:**"
      ],
      "metadata": {
        "id": "as9Z2sqXhqOB"
      }
    },
    {
      "cell_type": "code",
      "source": [],
      "metadata": {
        "id": "8hu4TGK-hqw_"
      },
      "execution_count": null,
      "outputs": []
    },
    {
      "cell_type": "code",
      "source": [
        "contador  = 0\n",
        "\n",
        "while contador <= 5:\n",
        "  print(f\"Numero de iteraciones: \", contador)\n",
        "  contador +=1\n",
        "\n",
        "\n",
        "# sentencia else en un ciclo while\n",
        "\n",
        "c = 0\n",
        "\n",
        "while c <=10:\n",
        "  c+=2\n",
        "  print(\"C vale\", c)\n",
        "else:\n",
        "  print(\"Se ha completadodo la iteracion y c vale :\", c)"
      ],
      "metadata": {
        "colab": {
          "base_uri": "https://localhost:8080/"
        },
        "id": "ZoVAk7y7HUwJ",
        "outputId": "bfa4a7e4-62c7-4672-ae2b-81e0db245116"
      },
      "execution_count": null,
      "outputs": [
        {
          "output_type": "stream",
          "name": "stdout",
          "text": [
            "Numero de iteraciones:  0\n",
            "Numero de iteraciones:  1\n",
            "Numero de iteraciones:  2\n",
            "Numero de iteraciones:  3\n",
            "Numero de iteraciones:  4\n",
            "Numero de iteraciones:  5\n",
            "C vale 2\n",
            "C vale 4\n",
            "C vale 6\n",
            "C vale 8\n",
            "C vale 10\n",
            "C vale 12\n",
            "Se ha completadodo la iteracion y c vale : 12\n"
          ]
        }
      ]
    },
    {
      "cell_type": "code",
      "source": [
        "# Completa el ejercicio aquí\n",
        "print( list( range( 0, 11 ) ) )\n",
        "print( list( range( -10, 1 ) ) )\n",
        "print( list( range( 0, 21, 2 ) ) )\n",
        "print( list( range( -19, 0, 2 ) ) )\n",
        "print( list( range( 0, 51, 5 ) ) )"
      ],
      "metadata": {
        "id": "otBwJh2yIPRM",
        "colab": {
          "base_uri": "https://localhost:8080/"
        },
        "outputId": "dc91ad45-fba1-4579-b563-72c41e7ef7b2"
      },
      "execution_count": 57,
      "outputs": [
        {
          "output_type": "stream",
          "name": "stdout",
          "text": [
            "[0, 1, 2, 3, 4, 5, 6, 7, 8, 9, 10]\n",
            "[-10, -9, -8, -7, -6, -5, -4, -3, -2, -1, 0]\n",
            "[0, 2, 4, 6, 8, 10, 12, 14, 16, 18, 20]\n",
            "[-19, -17, -15, -13, -11, -9, -7, -5, -3, -1]\n",
            "[0, 5, 10, 15, 20, 25, 30, 35, 40, 45, 50]\n"
          ]
        }
      ]
    }
  ]
}