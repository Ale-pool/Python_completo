{
 "cells": [
  {
   "cell_type": "markdown",
   "id": "4653c742",
   "metadata": {},
   "source": [
    "# PROGRAMACIÓN DE FUNCIONES\n",
    "\n",
    "- Escriba una funcion lalmada area_rectangulo() que devuelva el area del cuadrado apartir de una base y una altura. calcula el area de un rectangulo con\n",
    "15 de base y 10 de altura"
   ]
  },
  {
   "cell_type": "code",
   "execution_count": 12,
   "id": "8bd7868b",
   "metadata": {},
   "outputs": [
    {
     "name": "stdout",
     "output_type": "stream",
     "text": [
      "150 cm²\n",
      "49 cm²\n",
      "25.0 cm²\n",
      "153.93804002589985 cm²\n",
      "96 cm²\n",
      "32.0 cm²\n"
     ]
    }
   ],
   "source": [
    "# primero quiere probar algo\n",
    "\n",
    "import math as m\n",
    "\n",
    "def area_rectangulo(base, altura):\n",
    "    return base * altura\n",
    "\n",
    "# base = int(input(\"Ingrese la base del rectángulo: \"))\n",
    "# altura = int(input(\"Ingrese la altura del rectángulo: \"))\n",
    "\n",
    "print(area_rectangulo(15, 10), \"cm²\")\n",
    "\n",
    "# area de un cuadrado\n",
    "def area_cuadrado(lado):\n",
    "    return lado ** 2\n",
    "\n",
    "print(area_cuadrado(7), \"cm²\")\n",
    "\n",
    "\n",
    "# area de un triangulo\n",
    "\n",
    "def area_triangulo(base, altura):\n",
    "     return (base * altura) / 2\n",
    "\n",
    "print(area_triangulo(10, 5), \"cm²\")\n",
    "\n",
    "\n",
    "# area de un circulo\n",
    "def area_circulo(radio):\n",
    "    return m.pi * radio ** 2\n",
    "\n",
    "print(area_circulo(7), \"cm²\")\n",
    "\n",
    "# area de un romboide\n",
    "\n",
    "def area_romboide(base, altura):\n",
    "    return base * altura\n",
    "print(area_romboide(12, 8), \"cm²\")\n",
    "\n",
    "\n",
    "# area de un trapecio\n",
    "\n",
    "def area_trapecio(base_mayor, base_menor, altura):\n",
    "    return (base_mayor + base_menor) * altura / 2\n",
    "\n",
    "print(area_trapecio(10, 6, 4), \"cm²\")"
   ]
  },
  {
   "cell_type": "markdown",
   "id": "02a31fd5",
   "metadata": {},
   "source": [
    "# REALIZA UNA FUNCIÓN area_circulo\n",
    "-  que devuelva el area apartir de un radio 5\n",
    "\n"
   ]
  },
  {
   "cell_type": "code",
   "execution_count": 13,
   "id": "973b86be",
   "metadata": {},
   "outputs": [
    {
     "name": "stdout",
     "output_type": "stream",
     "text": [
      "78.53981633974483 cm²\n"
     ]
    }
   ],
   "source": [
    "import math as m\n",
    "def area_circulo(radio):\n",
    "    return m.pi * radio ** 2\n",
    "\n",
    "print(area_circulo(5), \"cm²\")"
   ]
  },
  {
   "cell_type": "markdown",
   "id": "3a0c7c96",
   "metadata": {},
   "source": [
    "# Realiza una función llamada relación() que apartir de dos numeros cumpla lo siguiente :\n",
    "\n",
    "-  si el primer numero es mayor que el segundo debe devolver uno\n",
    "- si el primer numero es menor que el segundo debo devolver -1\n",
    "- si ambos numeros son iguales, debe devolver un 0"
   ]
  },
  {
   "cell_type": "code",
   "execution_count": 16,
   "id": "f798939c",
   "metadata": {},
   "outputs": [
    {
     "name": "stdout",
     "output_type": "stream",
     "text": [
      "0\n"
     ]
    }
   ],
   "source": [
    "def relacion(primer_numero, segundo_numero):\n",
    "  if primer_numero > segundo_numero:\n",
    "    return 1\n",
    "  elif primer_numero < segundo_numero:\n",
    "    return -1\n",
    "  else:\n",
    "    return 0\n",
    "\n",
    "print(relacion(1, 1))"
   ]
  },
  {
   "cell_type": "markdown",
   "id": "892f6a9b",
   "metadata": {},
   "source": [
    "# Realiza una función llamada Intermedio que apartir de dos numeros, devuelva su punto intermedio"
   ]
  },
  {
   "cell_type": "code",
   "execution_count": 17,
   "id": "3dff2b77",
   "metadata": {},
   "outputs": [
    {
     "data": {
      "text/plain": [
       "6.0"
      ]
     },
     "execution_count": 17,
     "metadata": {},
     "output_type": "execute_result"
    }
   ],
   "source": [
    "def intermedio(num_1, num_2):\n",
    "  return (num_1 + num_2) / 2\n",
    "\n",
    "intermedio(-12, 24)"
   ]
  },
  {
   "cell_type": "markdown",
   "id": "c4fe17b1",
   "metadata": {},
   "source": [
    "# Realiza una función llamada recortar, que reciba tres parametros, el primero es el numero a recortar, el segundo es el limite inferior y el tercero es el limite superior.\n",
    "\n",
    "La fución tendra que cumplit lo siguiente.\n",
    "\n",
    "- devolver el limite inferior si el numero es menor que este\n",
    "- devolver el limite superior si el numero es mayor que este\n",
    "- devolver el numero sin cambios si no se supera ningun limite\n",
    "\n"
   ]
  },
  {
   "cell_type": "code",
   "execution_count": null,
   "id": "4b903191",
   "metadata": {},
   "outputs": [],
   "source": [
    "def recortar(numero, limite_inferior, limite_superior):\n",
    "  if numero < limite_inferior:\n",
    "    return limite_inferior\n",
    "  elif numero > limite_superior:\n",
    "    return limite_superior\n",
    "  else:\n",
    "    return numero\n",
    "\n",
    "recortar(15, 0, 16)"
   ]
  },
  {
   "cell_type": "markdown",
   "id": "81e27958",
   "metadata": {},
   "source": [
    "# Realiza una función separar() que tome una lista de numeros enteros y devuelva dos listas ordenadas\n",
    "\n",
    "- la primera con los numeros pares y la segunda con los numeros impares, por ejemplo:\n",
    "\n",
    "pares, impares = separar([6, 5, 2, 1, 7])\n",
    "print(pares) # [2, 6]\n",
    "print(inmpares) # [1, 5, 7]"
   ]
  },
  {
   "cell_type": "code",
   "execution_count": 22,
   "id": "000d2660",
   "metadata": {},
   "outputs": [
    {
     "name": "stdout",
     "output_type": "stream",
     "text": [
      "[8, 10, 12, 20, 24, 54]\n",
      "[1, 5, 9]\n",
      "[8, 10, 12, 20, 24, 54]\n",
      "[1, 5, 9]\n"
     ]
    }
   ],
   "source": [
    "def separar(lista_numeros):\n",
    "  lista_pares = []\n",
    "  lista_impares = []\n",
    "  for i in lista_numeros:\n",
    "    if i % 2 == 0:\n",
    "      lista_pares.append(i)\n",
    "    else:\n",
    "      lista_impares.append(i)\n",
    "  return sorted(lista_pares), sorted(lista_impares)\n",
    "\n",
    "pares, impares = separar([1,5,24,9,12,20, 8, 10, 54])\n",
    "print(pares)\n",
    "print(impares)\n",
    "\n",
    "\n",
    "# otra forma de ordenar la lista en ordenando la lista antes de devolverla\n",
    "\n",
    "def separar_numeros(lista_num):\n",
    "  lista_num.sort()\n",
    "  lista_pares = []\n",
    "  lista_impares = []\n",
    "  for i in lista_num:\n",
    "    if i % 2 == 0:\n",
    "      lista_pares.append(i)\n",
    "    else:\n",
    "      lista_impares.append(i)\n",
    "  return lista_pares, lista_impares\n",
    "\n",
    "pares, impares = separar_numeros([1,5,24,9,12,20, 8, 10, 54])\n",
    "print(pares)\n",
    "print(impares)\n"
   ]
  }
 ],
 "metadata": {
  "kernelspec": {
   "display_name": "Python 3",
   "language": "python",
   "name": "python3"
  },
  "language_info": {
   "codemirror_mode": {
    "name": "ipython",
    "version": 3
   },
   "file_extension": ".py",
   "mimetype": "text/x-python",
   "name": "python",
   "nbconvert_exporter": "python",
   "pygments_lexer": "ipython3",
   "version": "3.12.6"
  }
 },
 "nbformat": 4,
 "nbformat_minor": 5
}
