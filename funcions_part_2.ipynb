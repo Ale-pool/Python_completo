{
 "cells": [
  {
   "cell_type": "markdown",
   "id": "c0dc15c9",
   "metadata": {},
   "source": [
    "# FUNCIONES \n",
    "\n",
    "Una función es un bloque de código reutilizable que realiza una tarea específica. En Python, las funciones se definen utilizando la palabra clave `def`, seguida del nombre de la función y paréntesis que pueden incluir parámetros."
   ]
  },
  {
   "cell_type": "code",
   "execution_count": 6,
   "metadata": {},
   "outputs": [
    {
     "name": "stdout",
     "output_type": "stream",
     "text": [
      "5 *  0 = 0\n",
      "5 *  1 = 5\n",
      "5 *  2 = 10\n",
      "5 *  3 = 15\n",
      "5 *  4 = 20\n",
      "5 *  5 = 25\n",
      "5 *  6 = 30\n",
      "5 *  7 = 35\n",
      "5 *  8 = 40\n",
      "5 *  9 = 45\n",
      "5 *  10 = 50\n"
     ]
    }
   ],
   "source": [
    "def tabla_5():\n",
    "    for i in range(11):\n",
    "        print(\"5 * \", i, \"=\", i*5)\n",
    "        \n",
    "tabla_5()"
   ]
  },
  {
   "cell_type": "code",
   "execution_count": null,
   "id": "f17b35e5",
   "metadata": {},
   "outputs": [],
   "source": [
    "# retorno de valores\n",
    "\n",
    "def producto():\n",
    "    return 8 * 3\n",
    "\n",
    "producto()\n",
    "\n",
    "edad = producto()\n",
    "\n",
    "if edad < 24 and edad >25:\n",
    "    print(\"No es alex\")\n",
    "else:\n",
    "    print(\"es Alex\")"
   ]
  },
  {
   "cell_type": "code",
   "execution_count": 9,
   "id": "8b716bb7",
   "metadata": {},
   "outputs": [
    {
     "name": "stdout",
     "output_type": "stream",
     "text": [
      "una cadena\n",
      "20\n",
      "[1, 2, 4]\n"
     ]
    }
   ],
   "source": [
    "    \n",
    "def test():\n",
    "    return \"una cadena\", 20, [1,2,4]\n",
    "\n",
    "test()\n",
    "\n",
    "cadena, entero, lista = test()\n",
    "\n",
    "print(cadena)\n",
    "print(entero)\n",
    "print(lista)\n"
   ]
  },
  {
   "cell_type": "code",
   "execution_count": 12,
   "id": "5005b9f2",
   "metadata": {},
   "outputs": [
    {
     "name": "stdout",
     "output_type": "stream",
     "text": [
      "IMPAR\n"
     ]
    }
   ],
   "source": [
    "\"\"\"\n",
    "Realiza una función llamada par_o_impar(numero) que imprima por pantalla PAR o IMPAR (todo en mayúsculas) dependiendo de si numero es par o impar.\n",
    "\"\"\"\n",
    "\n",
    "def par_o_impar(numero):\n",
    "    if numero % 2 == 0:\n",
    "        print(\"PAR\")\n",
    "    else:\n",
    "        print(\"IMPAR\")\n",
    "\n",
    "\n",
    "par_o_impar(1)"
   ]
  },
  {
   "cell_type": "code",
   "execution_count": 13,
   "id": "a84014c2",
   "metadata": {},
   "outputs": [
    {
     "name": "stdout",
     "output_type": "stream",
     "text": [
      "5\n",
      "1\n",
      "10\n"
     ]
    }
   ],
   "source": [
    "def recortar(numero, minimo, maximo):\n",
    "    if numero < minimo:\n",
    "        return minimo\n",
    "    elif numero > maximo:\n",
    "        return maximo\n",
    "    else:\n",
    "        return numero\n",
    "    \n",
    "print(recortar(5, 1, 10))\n",
    "print(recortar(-5, 1, 10))\n",
    "print(recortar(15, 1, 10))\n",
    "    \n"
   ]
  },
  {
   "cell_type": "code",
   "execution_count": 17,
   "id": "1c5d818d",
   "metadata": {},
   "outputs": [
    {
     "name": "stdout",
     "output_type": "stream",
     "text": [
      "15\n",
      "10\n"
     ]
    }
   ],
   "source": [
    "def restar(a = 10, b = 5):  # función con valores por defecto\n",
    "    return a - b\n",
    "\n",
    "# print(restar())\n",
    "print(restar(20))\n",
    "print(restar(20, 10))"
   ]
  },
  {
   "cell_type": "code",
   "execution_count": 18,
   "id": "5ae06ab7",
   "metadata": {},
   "outputs": [
    {
     "name": "stdout",
     "output_type": "stream",
     "text": [
      "10\n",
      "[99, 2, 3]\n",
      "None\n",
      "10\n"
     ]
    }
   ],
   "source": [
    "# argumentos por valor y argumentos por referencia\n",
    "\n",
    "def cambiar_valor(numero):\n",
    "    numero = 99\n",
    "    return numero\n",
    "\n",
    "a = 10\n",
    "cambiar_valor(a)  # argumento por valor\n",
    "print(a)  # sigue siendo 10\n",
    "b = [1, 2, 3]\n",
    "def cambiar_lista(lista):\n",
    "    lista[0] = 99\n",
    "    return lista\n",
    "cambiar_lista(b)\n",
    "print(b)  # el primer elemento ahora es 99\n",
    "\n",
    "\n",
    "\n",
    "# cuando llamas a una funcion le pasas valores o variables (argumentos)\n",
    "\n",
    "def duplicar(x):\n",
    "    x = x *2\n",
    "\n",
    "num = 10\n",
    "print(duplicar(num))  # no imprime nada porque la función no retorna ningún valor\n",
    "print(num)  # sigue siendo 10 porque los enteros son inmutables y se pasan por valor\n",
    "# la funcion esta recibiendo una copia del valor 10\n",
    "# modificar x no cambia a la variable num fuera de la función\n"
   ]
  },
  {
   "cell_type": "code",
   "execution_count": 22,
   "id": "a7a81fc3",
   "metadata": {},
   "outputs": [
    {
     "name": "stdout",
     "output_type": "stream",
     "text": [
      "[99, 2, 3]\n",
      "{99, 1, 2, 3}\n"
     ]
    }
   ],
   "source": [
    "\"\"\"\"\n",
    "python Lo que hace es:\n",
    "\n",
    "Pasa una referencia al objeto, no una copia del objeto.\n",
    "\n",
    "Pero si el objeto es inmutable, no se puede cambiar desde dentro de la función.\n",
    "\n",
    "Si el objeto es mutable, sí se puede modificar desde dentro.\n",
    "\n",
    "Por eso:\n",
    "\n",
    "Lo que importa no es si el paso es “por valor” o “por referencia”,\n",
    "sino si el objeto es mutable o inmutable.\n",
    "\n",
    "\n",
    "\"\"\"\n",
    "\n",
    "def cambiar_lista(lista):\n",
    "    lista[0] = 99\n",
    "    return lista\n",
    "\n",
    "b = [1, 2, 3]\n",
    "cambiar_lista(b)\n",
    "print(b)  # el primer elemento ahora es 99\n",
    "\n",
    "def cambiar_conjunto(conjunto):\n",
    "    conjunto.add(99)\n",
    "    return conjunto\n",
    "\n",
    "c = {1, 2, 3}\n",
    "cambiar_conjunto(c)\n",
    "print(c)  # el conjunto ahora contiene 99"
   ]
  },
  {
   "cell_type": "code",
   "execution_count": 27,
   "id": "3515cb76",
   "metadata": {},
   "outputs": [
    {
     "name": "stdout",
     "output_type": "stream",
     "text": [
      "12\n",
      "10\n",
      "La dirección de memoria del objeto es: 140725023214360\n",
      "La dirección de memoria del objeto es: 140725023214296\n",
      "[1, 2, 3, 4]\n",
      "[1, 2, 3, 4]\n",
      "La dirección de memoria del objeto es: 2393357805760\n",
      "La dirección de memoria del objeto es: 2393357805760\n"
     ]
    }
   ],
   "source": [
    "def memoria(object):\n",
    "    print(f\"La dirección de memoria del objeto es: {id(object)}\")\n",
    "\n",
    "a = 10\n",
    "b = a\n",
    "\n",
    "a = 12\n",
    "print(a)  # 12\n",
    "print(b)  # 10\n",
    "\n",
    "memoria(a)\n",
    "memoria(b)\n",
    "\n",
    "lista1 = [1, 2, 3]\n",
    "lista2 = lista1\n",
    "lista1.append(4)\n",
    "print(lista1)  # [1, 2, 3, 4]\n",
    "print(lista2)  # [1, 2, 3, 4] porque ambas variables apuntan al mismo objeto en memoria\n",
    "memoria(lista1)\n",
    "memoria(lista2)"
   ]
  },
  {
   "cell_type": "code",
   "execution_count": 29,
   "id": "51bb9164",
   "metadata": {},
   "outputs": [
    {
     "name": "stdout",
     "output_type": "stream",
     "text": [
      "15\n",
      "nombre: Alex\n",
      "edad: 25\n",
      "ciudad: New York\n"
     ]
    }
   ],
   "source": [
    "# arguementos indterminados\n",
    "def suma_numeros(*args):\n",
    "    total = 0\n",
    "    for numero in args:\n",
    "        total += numero\n",
    "    return total\n",
    "\n",
    "print(suma_numeros(1, 2, 3, 4, 5))\n",
    "\n",
    "\n",
    "# argumentos con nombre (kwargs)\n",
    "def imprimir_datos(**kwargs):\n",
    "    for clave, valor in kwargs.items():\n",
    "        print(f\"{clave}: {valor}\")\n",
    "\n",
    "imprimir_datos(nombre=\"Alex\", edad=25, ciudad=\"New York\")"
   ]
  },
  {
   "cell_type": "code",
   "execution_count": 31,
   "id": "21ac98f2",
   "metadata": {},
   "outputs": [
    {
     "name": "stdout",
     "output_type": "stream",
     "text": [
      "Sumatorio indeterminado 90.71000000000001\n",
      "nombre   Alex\n",
      "edad   24\n"
     ]
    }
   ],
   "source": [
    "def super_funion(*args, **kwargs):\n",
    "    t = 0\n",
    "    for a in args:\n",
    "        t+= a\n",
    "    print(\"Sumatorio indeterminado\", t)\n",
    "    for k in kwargs:\n",
    "        print(k, \" \", kwargs[k])\n",
    "        \n",
    "super_funion(12.23,33.24,45.24, nombre = \"Alex\", edad = 24)"
   ]
  },
  {
   "cell_type": "code",
   "execution_count": 33,
   "id": "0e3a3569",
   "metadata": {},
   "outputs": [
    {
     "name": "stdout",
     "output_type": "stream",
     "text": [
      "9\n",
      "8\n",
      "7\n",
      "6\n",
      "5\n",
      "4\n",
      "3\n",
      "2\n",
      "1\n",
      "bommm!\n"
     ]
    }
   ],
   "source": [
    "# funciones recursivas\n",
    "def cuenta_atras(num):\n",
    "    num -=1\n",
    "    if num > 0:\n",
    "        print(num)\n",
    "        cuenta_atras(num)\n",
    "    else:\n",
    "        print(\"bommm!\")\n",
    "\n",
    "cuenta_atras(10)"
   ]
  },
  {
   "cell_type": "code",
   "execution_count": 35,
   "id": "d5f1e340",
   "metadata": {},
   "outputs": [
    {
     "name": "stdout",
     "output_type": "stream",
     "text": [
      "6\n"
     ]
    }
   ],
   "source": [
    "def sumar(numero):\n",
    "    if numero > 1:\n",
    "        return numero + sumar(numero -1)\n",
    "    else:\n",
    "        return numero\n",
    "print(sumar(3))  "
   ]
  }
 ],
 "metadata": {
  "kernelspec": {
   "display_name": "Python 3",
   "language": "python",
   "name": "python3"
  },
  "language_info": {
   "codemirror_mode": {
    "name": "ipython",
    "version": 3
   },
   "file_extension": ".py",
   "mimetype": "text/x-python",
   "name": "python",
   "nbconvert_exporter": "python",
   "pygments_lexer": "ipython3",
   "version": "3.12.6"
  }
 },
 "nbformat": 4,
 "nbformat_minor": 5
}
